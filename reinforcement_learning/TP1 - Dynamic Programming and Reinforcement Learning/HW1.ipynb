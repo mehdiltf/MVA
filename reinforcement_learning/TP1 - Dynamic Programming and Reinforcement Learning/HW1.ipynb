{
 "cells": [
  {
   "cell_type": "code",
   "execution_count": 2,
   "metadata": {},
   "outputs": [],
   "source": [
    "import numpy as np\n",
    "import matplotlib.pyplot as plt\n",
    "import time"
   ]
  },
  {
   "cell_type": "markdown",
   "metadata": {},
   "source": [
    "## Dynamic Programming"
   ]
  },
  {
   "cell_type": "markdown",
   "metadata": {},
   "source": [
    "### Q1: Implement the discrete MDP model."
   ]
  },
  {
   "cell_type": "markdown",
   "metadata": {},
   "source": [
    "<img src=\"RL_homework1.pdf.png\">"
   ]
  },
  {
   "cell_type": "code",
   "execution_count": 3,
   "metadata": {},
   "outputs": [],
   "source": [
    "P=np.zeros((3,3,3))\n",
    "R=np.zeros((3,3))\n",
    "P[0,0,0]=0.55\n",
    "P[1,0,0]=0.45\n",
    "R[0,0]=0\n",
    "P[0,1,0]=0.3\n",
    "P[1,1,0]=0.7\n",
    "R[0,1]=0\n",
    "P[0,2,0]=1\n",
    "R[0,2]=5/100\n",
    "\n",
    "P[0,0,1]=1\n",
    "R[1,0]=0\n",
    "P[1,1,1]=0.4\n",
    "P[2,1,1]=0.6\n",
    "R[1,1]=0\n",
    "P[1,2,1]=1\n",
    "R[1,2]=0\n",
    "\n",
    "P[1,0,2]=1\n",
    "R[2,0]=0\n",
    "P[1,1,2]=0.6\n",
    "P[2,1,2]=0.4\n",
    "R[2,1]=1\n",
    "P[2,2,2]=1\n",
    "R[2,2]=0.9\n"
   ]
  },
  {
   "cell_type": "markdown",
   "metadata": {},
   "source": [
    "P is the transition 3x3x3 matrix of the given MDP model, the first index indicates the next state, the second one indicates the\n",
    "action taken and the third one is for the previous (or the current) state.\n",
    "\n",
    "\n",
    "R is the reward 3x3 matrix, its rows represent the states and its columns the actions."
   ]
  },
  {
   "cell_type": "markdown",
   "metadata": {},
   "source": [
    "### Optimal policy"
   ]
  },
  {
   "cell_type": "markdown",
   "metadata": {},
   "source": [
    "$\\pi^{*}(s_0)=a_1$\n",
    "\n",
    "$\\pi^{*}(s_1)=a_1$\n",
    "\n",
    "$\\pi^{*}(s_2)=a_2$"
   ]
  },
  {
   "cell_type": "markdown",
   "metadata": {},
   "source": [
    "### Q2:  Implement and run value iteration (VI) in order to identify a 0.01–optimal policy. "
   ]
  },
  {
   "cell_type": "code",
   "execution_count": 4,
   "metadata": {},
   "outputs": [],
   "source": [
    "def Value_iteration(P,R,discount_factor,precision):\n",
    "    v_new=np.zeros((1,np.shape(P)[0])) # V in R^N where N number of states.\n",
    "    v_old=np.zeros((1,np.shape(P)[0])) #to not trigger the stopping criterion from the beginning\n",
    "    iteration=0 #Counter for the number of iterations before convergence\n",
    "    while(abs(np.max(v_old-v_new))>precision or iteration<2): # stopping criterion (iteration<2 \n",
    "        #because v_new_1=[0.05 0.   1.  ] and [0.0975 0.57   1.85  ] causing the algorithm to stop at the second iteration )\n",
    "        v_old=v_new\n",
    "        V=np.zeros((np.shape(P)[0],np.shape(P)[1]))\n",
    "        #compute all T\\pi V_k for all policies possible\n",
    "        for x in range(np.shape(P)[0]):#asynchronous VI\n",
    "            for a in range(np.shape(P)[1]):\n",
    "                V[x,a]=R[x,a]+discount_factor*np.sum(P[:,a,x]*v_new)\n",
    "        v_new=np.max(V,axis=1)#V_k+1= TV_k maximizing to get the value for the optimal policy\n",
    "        iteration+=1 #increasing the counter\n",
    "    p=np.argmax(V,axis=1) #optimal policy\n",
    "    return np.array([p,v_new,iteration])"
   ]
  },
  {
   "cell_type": "markdown",
   "metadata": {},
   "source": [
    "The function VI (value iteration) takes in argument the transition and reward matrices, The discount_factor (gamma) and the\n",
    "precision of the optimal policy. It returns an array of three elements, the first one is the optimal policy, the second one the\n",
    "optimal value and the third one is the number of iteration till the while condition is unsatisfied anymore."
   ]
  },
  {
   "cell_type": "code",
   "execution_count": 5,
   "metadata": {},
   "outputs": [
    {
     "name": "stdout",
     "output_type": "stream",
     "text": [
      "The 0.01-optimal policy is :  [1 1 2] \n",
      "The 0.01-optimal value is: [15.2048944  16.36212427 17.81373717]\n"
     ]
    }
   ],
   "source": [
    "print('The 0.01-optimal policy is : ', Value_iteration(P,R,0.95,0.01)[0], '\\nThe 0.01-optimal value is:', Value_iteration\n",
    "(P,R,0.95,0.01)[1])"
   ]
  },
  {
   "cell_type": "code",
   "execution_count": 6,
   "metadata": {},
   "outputs": [
    {
     "data": {
      "text/plain": [
       "array([array([1, 1, 2], dtype=int64),\n",
       "       array([15.2048944 , 16.36212427, 17.81373717]), 89], dtype=object)"
      ]
     },
     "execution_count": 6,
     "metadata": {},
     "output_type": "execute_result"
    }
   ],
   "source": [
    "Value_iteration(P,R,0.95,0.01)"
   ]
  },
  {
   "cell_type": "markdown",
   "metadata": {},
   "source": [
    "### Plot $∥v_k − v^∗∥_∞$ as a function of iteration k, knowing that $d^∗ = [a_1, a_1, a_2]$ (i.e., implement policy evaluation)."
   ]
  },
  {
   "cell_type": "code",
   "execution_count": 7,
   "metadata": {},
   "outputs": [],
   "source": [
    "pi_optimal=[1,1,2]\n",
    "P_pi=np.array([P[:,int(pi_optimal[0]),0],P[:,int(pi_optimal[1]),1],P[:,int(pi_optimal[2]),2]])\n",
    "r_pi=np.array([R[0,int(pi_optimal[0])],R[1,int(pi_optimal[1])],R[2,int(pi_optimal[2])]])\n",
    "v_optimal=np.dot(np.linalg.inv(np.eye(np.shape(P)[0])-0.95*P_pi),r_pi)"
   ]
  },
  {
   "cell_type": "markdown",
   "metadata": {},
   "source": [
    "Calculating the optimal value given the optimal policy, using the exact formula (matrix formula: $V^{\\pi} =(I_n−\\gamma P^{\\pi})^{−1}r^{\\pi}$)."
   ]
  },
  {
   "cell_type": "code",
   "execution_count": 8,
   "metadata": {},
   "outputs": [],
   "source": [
    "def policy_evaluation(k,P,R,discount_factor,v_optimal):\n",
    "    v_new=np.zeros((1,np.shape(P)[0]))\n",
    "    for i in range(k):\n",
    "        V=np.zeros((np.shape(P)[0],np.shape(P)[1]))\n",
    "        for x in range(np.shape(P)[0]):\n",
    "            for a in range(np.shape(P)[1]):\n",
    "                V[x,a]=R[x,a]+discount_factor*np.sum(P[:,a,x]*v_new)\n",
    "        v_new=np.max(V,axis=1)\n",
    "    return abs(np.max(v_optimal-v_new))"
   ]
  },
  {
   "cell_type": "markdown",
   "metadata": {},
   "source": [
    "The function policy_evaluation takes in argument The number of iterations k, the transition and reward matrices, The\n",
    "discount_factor (gamma) and the the optimal value. It returns the maximum difference elementwise between the\n",
    "optimal value and the estimated one."
   ]
  },
  {
   "cell_type": "code",
   "execution_count": 9,
   "metadata": {},
   "outputs": [],
   "source": [
    "k=[i for i in range(300)]\n",
    "value_convergence=[policy_evaluation(i,P,R,0.95,v_optimal) for i in range(300)]"
   ]
  },
  {
   "cell_type": "code",
   "execution_count": 10,
   "metadata": {
    "scrolled": true
   },
   "outputs": [
    {
     "data": {
      "image/png": "[encoded data removed]",
      "text/plain": [
       "<Figure size 432x288 with 1 Axes>"
      ]
     },
     "metadata": {},
     "output_type": "display_data"
    }
   ],
   "source": [
    "plt.plot(k,value_convergence)\n",
    "plt.xlabel('Iterations')\n",
    "plt.ylabel('||v-v*||')\n",
    "plt.grid()\n",
    "plt.title('Figure1: Gap between the optimal value and the calculated one')\n",
    "plt.show()"
   ]
  },
  {
   "cell_type": "markdown",
   "metadata": {},
   "source": [
    "The figure tells us that the gap between the optimal value and the calculated one decreases when the number of iteration\n",
    "increases till it converges to 0 around 110 iterations which is just the contraction property of the bellman operator $∥v_{k+1} − v^∗∥_∞<\\gamma ∥v_{k} − v^∗∥_∞$"
   ]
  },
  {
   "cell_type": "markdown",
   "metadata": {},
   "source": [
    "### Q3: implement policy iteration (PI) with initial policy $\\pi_0=[a_0,a_1,a_2]$"
   ]
  },
  {
   "cell_type": "code",
   "execution_count": 11,
   "metadata": {},
   "outputs": [],
   "source": [
    "def Policy_iteration(P,R,discount_factor):\n",
    "    p=[1,1,2]\n",
    "    v_old=np.zeros(len(P))\n",
    "    is_changed=True\n",
    "    iteration=0\n",
    "    while(is_changed):\n",
    "        P_pi=np.array([P[:,int(p[0]),0],P[:,int(p[1]),1],P[:,int(p[2]),2]])\n",
    "        r_pi=np.array([R[0,int(p[0])],R[1,int(p[1])],R[2,int(p[2])]])\n",
    "        v_pi_new=np.dot(np.linalg.inv(np.eye(np.shape(P)[0])-discount_factor*P_pi),r_pi)\n",
    "        if((v_pi_new==v_old).all()):\n",
    "            is_changed=False\n",
    "        v_old=v_pi_new\n",
    "        V=np.zeros((np.shape(P)[0],np.shape(P)[1]))\n",
    "        for x in range(np.shape(P)[0]):\n",
    "            for a in range(np.shape(P)[1]):\n",
    "                V[x,a]=R[x,a]+discount_factor*np.sum(P[:,a,x]*v_pi_new)\n",
    "        p=np.argmax(V,axis=1)\n",
    "        iteration+=1\n",
    "    return [p,v_pi_new,iteration]"
   ]
  },
  {
   "cell_type": "markdown",
   "metadata": {},
   "source": [
    "The function Policy_iteration takes in argument the number of iterations k, the transition and reward matrices, the discount_factor (gamma).\n",
    "\n",
    "It returns an array of three elements, the first one is the optimal policy, the second one the optimal\n",
    "value and the third one is the number of iterations till the while condition is unsatisfied anymore.\n",
    "\n",
    "For the policy evaluation\n",
    "step I used the direct computation method, since the given MDP is not too complex (matrix formula: $V^{\\pi} =(I_n−\\gamma P^{\\pi})^{−1}r^{\\pi}$)."
   ]
  },
  {
   "cell_type": "code",
   "execution_count": 12,
   "metadata": {},
   "outputs": [],
   "source": [
    "t=time.time()\n",
    "value_iteration=Value_iteration(P,R,0.95,0)\n",
    "elapsed=time.time()-t"
   ]
  },
  {
   "cell_type": "code",
   "execution_count": 13,
   "metadata": {},
   "outputs": [],
   "source": [
    "t=time.time()\n",
    "policy_iteration=Policy_iteration(P,R,0.95)\n",
    "elapsed_2=time.time()-t"
   ]
  },
  {
   "cell_type": "code",
   "execution_count": 14,
   "metadata": {},
   "outputs": [
    {
     "name": "stdout",
     "output_type": "stream",
     "text": [
      "The time taken by the value iteration algorithm to converge is 0.05883979797363281\n",
      "The number of value iterations till convergence is:  647\n",
      "The time taken by the policy iteration algorithm to converge is 0.0012776851654052734\n",
      "The number of policy iterations till convergence is:  2\n"
     ]
    }
   ],
   "source": [
    "print('The time taken by the value iteration algorithm to converge is', elapsed)\n",
    "print('The number of value iterations till convergence is: ', value_iteration[2])\n",
    "print('The time taken by the policy iteration algorithm to converge is', elapsed_2)\n",
    "print('The number of policy iterations till convergence is: ', policy_iteration[2])"
   ]
  },
  {
   "cell_type": "markdown",
   "metadata": {},
   "source": [
    "<div class=\"alert alert-block alert-success\">\n",
    "The time taken to converge, in this case, of the VI approach is larger than the one taken by PI approach, but this is because\n",
    "the VI is an approximatly method and then if we are searching for exact convergences we should wait a lot of iterations\n",
    "unlike the PI approach which use the closed form of policy evaluation and then will converge rapidly, but if the dimension of\n",
    "the problem is higher (the number of action and states is very large) then the computation of the policy evaluation using the\n",
    "closed form will be computationnaly very expensive and then the PI will take much more time than the VI approach.\n",
    "<p></p>\n",
    "<p><b>\n",
    "    The relative merits of the approches:</b></p>\n",
    "<p>\n",
    "-The pros of VI are: There isn't a lot of computation in each iteration (computationnally efficient).</p>\n",
    "\n",
    "-The cons of VI are: The convergence is asymptotic and then the algorithm may need a lot of iterations to give a good\n",
    "approximation of the optimal value.\n",
    "\n",
    "-The pros of PI are: The PI approach converges to the exact optimal value unlike the VI approach in a finite number of\n",
    "iterations (generally not very large).\n",
    "\n",
    "-The cons of PI are: The PI approach is computationnally expensive since it needs to do at each iteration a complete policy\n",
    "evaluation which need a lot of calculation, specially when the matrix closed form is used.\n",
    "</div>"
   ]
  },
  {
   "cell_type": "markdown",
   "metadata": {},
   "source": [
    "## Reinforcement Learning"
   ]
  },
  {
   "cell_type": "markdown",
   "metadata": {},
   "source": [
    "### A review of RL Agent/ Environment Interaction"
   ]
  },
  {
   "cell_type": "markdown",
   "metadata": {},
   "source": [
    "### Q4: Build an estimator of $V_n$ and plot $J_n − J_{\\pi}$ as a function of n"
   ]
  },
  {
   "cell_type": "code",
   "execution_count": 15,
   "metadata": {},
   "outputs": [
    {
     "name": "stdout",
     "output_type": "stream",
     "text": [
      "[[0, 0], [0, 1], [0, 2], [0, 3], [1, 0], [1, 2], [1, 3], [2, 0], [2, 1], [2, 2], [2, 3]]\n",
      "[[ 0  1  2  3]\n",
      " [ 4 -1  5  6]\n",
      " [ 7  8  9 10]]\n",
      "[[0, 1], [0, 2], [0, 1, 2], [0], [1, 3], [0, 1, 3], [0], [0, 3], [0, 2], [0, 2, 3], [2, 3]]\n",
      "s0: ['right' 'down']\n",
      "s1: ['right' 'left']\n",
      "s2: ['right' 'down' 'left']\n",
      "s3: ['right']\n",
      "s4: ['down' 'up']\n",
      "s5: ['right' 'down' 'up']\n",
      "s6: ['right']\n",
      "s7: ['right' 'up']\n",
      "s8: ['right' 'left']\n",
      "s9: ['right' 'left' 'up']\n",
      "s10: ['left' 'up']\n"
     ]
    },
    {
     "name": "stderr",
     "output_type": "stream",
     "text": [
      "C:\\Users\\dell\\Anaconda\\lib\\site-packages\\ipykernel_launcher.py:83: RuntimeWarning: invalid value encountered in true_divide\n"
     ]
    },
    {
     "data": {
      "text/plain": [
       "[<matplotlib.lines.Line2D at 0x268af4206a0>]"
      ]
     },
     "execution_count": 15,
     "metadata": {},
     "output_type": "execute_result"
    },
    {
     "data": {
      "image/png": "[encoded data removed]",
      "text/plain": [
       "<Figure size 432x288 with 1 Axes>"
      ]
     },
     "metadata": {},
     "output_type": "display_data"
    }
   ],
   "source": [
    "from gridworld import GridWorld1\n",
    "import gridrender as gui\n",
    "import numpy as np\n",
    "import time\n",
    "import matplotlib.pyplot as plt\n",
    "\n",
    "env = GridWorld1\n",
    "\n",
    "################################################################################\n",
    "# investigate the structure of the environment\n",
    "# - env.n_states: the number of states\n",
    "# - env.state2coord: converts state number to coordinates (row, col)\n",
    "# - env.coord2state: converts coordinates (row, col) into state number\n",
    "# - env.action_names: converts action number [0,3] into a named action\n",
    "# - env.state_actions: for each state stores the action availables\n",
    "#   For example\n",
    "#       print(env.state_actions[4]) -> [1,3]\n",
    "#       print(env.action_names[env.state_actions[4]]) -> ['down' 'up']\n",
    "# - env.gamma: discount factor\n",
    "################################################################################\n",
    "print(env.state2coord)\n",
    "print(env.coord2state)\n",
    "print(env.state_actions)\n",
    "for i, el in enumerate(env.state_actions):\n",
    "        print(\"s{}: {}\".format(i, env.action_names[el]))\n",
    "\n",
    "################################################################################\n",
    "# Policy definition\n",
    "# If you want to represent deterministic action you can just use the number of\n",
    "# the action. Recall that in the terminal states only action 0 (right) is\n",
    "# defined.\n",
    "# In this case, you can use gui.renderpol to visualize the policy\n",
    "################################################################################\n",
    "pol = [1, 2, 0, 0, 1, 1, 0, 0, 0, 0, 3]\n",
    "#gui.render_policy(env, pol)\n",
    "\n",
    "################################################################################\n",
    "# Try to simulate a trajectory\n",
    "# you can use env.step(s,a, render=True) to visualize the transition\n",
    "################################################################################\n",
    "\n",
    "#env.render = True\n",
    "state = 0\n",
    "fps = 1\n",
    "for i in range(5):\n",
    "        action = np.random.choice(env.state_actions[state])\n",
    "        nexts, reward, term = env.step(state,action)\n",
    "        state = nexts\n",
    "        time.sleep(1./fps)\n",
    "\n",
    "################################################################################\n",
    "# You can also visualize the q-function using render_q\n",
    "################################################################################\n",
    "# first get the maximum number of actions available\n",
    "max_act = max(map(len, env.state_actions))\n",
    "q = np.random.rand(env.n_states, max_act)\n",
    "#gui.render_q(env, q)\n",
    "\n",
    "################################################################################\n",
    "# Work to do: Q4\n",
    "################################################################################\n",
    "# here the v-function and q-function to be used for question 4\n",
    "n = 10000\n",
    "policy = np.zeros(11)\n",
    "policy[4], policy[10] = 3,3\n",
    "l = [env.reset() for i in range(n)]\n",
    "unique, counts = np.unique(l, return_counts=True)\n",
    "mu0 = counts/np.sum(counts)         # mu0 , starting state distribution\n",
    "l = np.zeros(11)\n",
    "N = np.zeros(11)\n",
    "J_n = np.zeros(n)\n",
    "for i in range(n):\n",
    "#    state = np.random.randint(11)\n",
    "    state = env.reset()\n",
    "    state_i = state\n",
    "    N[state_i] += 1\n",
    "    cpt=0\n",
    "    while(state not in [3,6] and cpt<1/(1-env.gamma)):\n",
    "        nexts, reward, term = env.step(state,policy[state])\n",
    "        state = nexts\n",
    "        cpt+=1\n",
    "    l[state_i] += reward*np.power(env.gamma,cpt-1)\n",
    "    V = l/N\n",
    "    J_n[i] = np.dot(mu0,V)\n",
    "\n",
    "\n",
    "        \n",
    "v_q4 = [0.87691855, 0.92820033, 0.98817903, 0.00000000, 0.67106071, -0.99447514, 0.00000000, -0.82847001, -0.87691855,\n",
    "        -0.93358351, -0.99447514]\n",
    "J_pi = np.dot(mu0,v_q4)\n",
    "plt.figure()\n",
    "plt.xlabel('number of iterations')\n",
    "plt.ylabel(\"Value function convergence\")\n",
    "plt.plot(J_n-J_pi)\n"
   ]
  },
  {
   "cell_type": "code",
   "execution_count": 16,
   "metadata": {},
   "outputs": [
    {
     "data": {
      "image/png": "[encoded data removed]",
      "text/plain": [
       "<Figure size 432x288 with 1 Axes>"
      ]
     },
     "metadata": {},
     "output_type": "display_data"
    },
    {
     "data": {
      "image/png": "[encoded data removed]",
      "text/plain": [
       "<Figure size 432x288 with 1 Axes>"
      ]
     },
     "metadata": {},
     "output_type": "display_data"
    }
   ],
   "source": [
    "##Q5:\n",
    "# Q-learning Algorithm\n",
    "v_opt = [0.87691855, 0.92820033, 0.98817903, 0.00000000, 0.82369294, 0.92820033, 0.00000000, 0.77818504, 0.82369294,\n",
    "         0.87691855, 0.82847001]\n",
    "\n",
    "eps = 3e-2\n",
    "Q = -1e8*np.ones((11,4))\n",
    "for s in range(11):\n",
    "    for a in env.state_actions[s]:\n",
    "        Q[s][a] = 0\n",
    "diff = []\n",
    "list_reward = np.zeros(n)\n",
    "for i in range(n):\n",
    "#    state = np.random.randint(11)\n",
    "    state = env.reset()\n",
    "    cpt = 0\n",
    "    count = np.zeros((11,4))\n",
    "    while (state not in [3,6] and cpt<1/(1-env.gamma)):\n",
    "        action = np.argmax(Q[state]) if (np.random.rand()<1-eps) else np.random.choice(env.state_actions[state])\n",
    "        count[state,action]+=1\n",
    "        nexts, reward, term = env.step(state,action)\n",
    "        Q[state,action] = (1-1/count[state,action])*Q[state,action] + (1/count[state,action])*(reward + env.gamma * np.amax(Q[nexts]))\n",
    "        state = nexts\n",
    "        list_reward[i]+=reward\n",
    "        cpt+=1   \n",
    "    pi_opt  = np.argmax(Q,axis=1)\n",
    "    v_exp = [Q[state,pi_opt[state]] for state in range(11)]\n",
    "    diff += [np.amax(np.abs(np.subtract(v_exp,v_opt)))]\n",
    "\n",
    "plt.figure()\n",
    "plt.xlabel('number of iterations')\n",
    "plt.ylabel(\"Q-function convergence\")\n",
    "plt.plot(diff)     \n",
    "plt.figure()\n",
    "plt.xlabel('Episode')\n",
    "plt.ylabel(\"Reward\")\n",
    "plt.plot(np.cumsum(list_reward))\n",
    "plt.xscale(\"log\")\n",
    "\n"
   ]
  },
  {
   "cell_type": "code",
   "execution_count": 19,
   "metadata": {},
   "outputs": [
    {
     "data": {
      "image/png": "[encoded data removed]",
      "text/plain": [
       "<Figure size 432x288 with 1 Axes>"
      ]
     },
     "metadata": {},
     "output_type": "display_data"
    },
    {
     "data": {
      "image/png": "[encoded data removed]",
      "text/plain": [
       "<Figure size 432x288 with 1 Axes>"
      ]
     },
     "metadata": {},
     "output_type": "display_data"
    }
   ],
   "source": [
    "##Q5:\n",
    "# Q-learning Algorithm\n",
    "v_opt = [0.87691855, 0.92820033, 0.98817903, 0.00000000, 0.82369294, 0.92820033, 0.00000000, 0.77818504, 0.82369294,\n",
    "         0.87691855, 0.82847001]\n",
    "\n",
    "eps = 1\n",
    "Q = -1e8*np.ones((11,4))\n",
    "for s in range(11):\n",
    "    for a in env.state_actions[s]:\n",
    "        Q[s][a] = 0\n",
    "diff = []\n",
    "list_reward = np.zeros(n)\n",
    "for i in range(n):\n",
    "#    state = np.random.randint(11)\n",
    "    state = env.reset()\n",
    "    cpt = 0\n",
    "    count = np.zeros((11,4))\n",
    "    while (state not in [3,6] and cpt<1/(1-env.gamma)):\n",
    "        action = np.argmax(Q[state]) if (np.random.rand()<1-eps) else np.random.choice(env.state_actions[state])\n",
    "        count[state,action]+=1\n",
    "        nexts, reward, term = env.step(state,action)\n",
    "        Q[state,action] = (1-1/count[state,action])*Q[state,action] + (1/count[state,action])*(reward + env.gamma * np.amax(Q[nexts]))\n",
    "        state = nexts\n",
    "        list_reward[i]+=reward\n",
    "        cpt+=1   \n",
    "    pi_opt  = np.argmax(Q,axis=1)\n",
    "    v_exp = [Q[state,pi_opt[state]] for state in range(11)]\n",
    "    diff += [np.amax(np.abs(np.subtract(v_exp,v_opt)))]\n",
    "\n",
    "plt.figure()\n",
    "plt.xlabel('number of iterations')\n",
    "plt.ylabel(\"Q-function convergence\")\n",
    "plt.plot(diff)     \n",
    "plt.figure()\n",
    "plt.xlabel('Episode')\n",
    "plt.ylabel(\"Reward\")\n",
    "plt.plot(np.cumsum(list_reward))\n",
    "plt.xscale(\"log\")\n",
    "\n"
   ]
  },
  {
   "cell_type": "markdown",
   "metadata": {},
   "source": [
    "<div class=\"alert alert-block alert-success\">\n",
    "The Robbins-Monro conditions implie a choice of a learning rate $\\alpha_{i} = \\frac{1}{i}$.\n",
    "For $\\epsilon$, we could affirm that the value of ε represent the trade-off between the maximum reward and\n",
    "the convergence to the optimal value, by choosing ε very small, we don't allow for much exploration then the convergence to\n",
    "the optimal value will be very slowly w.r.t to the number of iterations but the accumulated reward will be significant . If ε is very large then we allow for a lot of exploration, the convergence to the optimal value will come\n",
    "rapidly but the accumulated reward will be very small or negative.\n",
    "We could choose $\\epsilon=0.03$\n",
    "</div>"
   ]
  },
  {
   "cell_type": "markdown",
   "metadata": {},
   "source": [
    "\n",
    "<div class=\"alert alert-block alert-success\">\n",
    "<b>Q6:</b>\n",
    "Because the graph of the states (grid) is irreductible (i.e for any two different states, there exists a path from one to the other) and the loop of trajectory will reach all the states when the number of iteration is sufficiently large. \n",
    "And thus, so changing the initial distribution cannot possibly change the policy to which we converge.\n",
    "\n",
    "<p></p>\n",
    "In the other case where the graph is reductible, if we use a distribution that gives a poor probability (or null in the extreme case) to the nodes of a related componant (composante connexe) then those states will never be reached by the other states of other related componant and this may affect the optimal policy.\n",
    "</div>"
   ]
  }
 ],
 "metadata": {
  "kernelspec": {
   "display_name": "Python 3",
   "language": "python",
   "name": "python3"
  },
  "language_info": {
   "codemirror_mode": {
    "name": "ipython",
    "version": 3
   },
   "file_extension": ".py",
   "mimetype": "text/x-python",
   "name": "python",
   "nbconvert_exporter": "python",
   "pygments_lexer": "ipython3",
   "version": "3.6.5"
  }
 },
 "nbformat": 4,
 "nbformat_minor": 2
}
