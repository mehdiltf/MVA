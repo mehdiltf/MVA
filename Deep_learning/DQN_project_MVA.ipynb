{
 "cells": [
  {
   "cell_type": "markdown",
   "metadata": {
    "colab_type": "text",
    "id": "UYboLJ6MJmjW"
   },
   "source": [
    "**You may need to install [OpenCV](https://pypi.python.org/pypi/opencv-python) and [scikit-video](http://www.scikit-video.org/stable/).**"
   ]
  },
  {
   "cell_type": "code",
   "execution_count": 0,
   "metadata": {
    "colab": {},
    "colab_type": "code",
    "id": "re52gTObJmjY"
   },
   "outputs": [],
   "source": [
    "import keras\n",
    "import io\n",
    "import base64\n",
    "from IPython.display import HTML\n",
    "import skvideo.io\n",
    "import cv2\n",
    "import numpy as np\n",
    "\n",
    "import json\n",
    "\n",
    "from keras.models import Sequential,model_from_json\n",
    "from keras.layers.core import Dense,Flatten\n",
    "from keras.optimizers import sgd\n",
    "from keras.layers import Conv2D, MaxPooling2D, Activation, AveragePooling2D,Reshape,BatchNormalization"
   ]
  },
  {
   "cell_type": "markdown",
   "metadata": {
    "colab_type": "text",
    "id": "YgL33RPLJmjf"
   },
   "source": [
    "# MiniProject #3: Deep Reinforcement Learning"
   ]
  },
  {
   "cell_type": "markdown",
   "metadata": {
    "colab_type": "text",
    "id": "iZl3moAiJmjg"
   },
   "source": [
    "__Notations__: $E_p$ is the expectation under probability $p$. Please justify each of your answer and widely comment your code."
   ]
  },
  {
   "cell_type": "markdown",
   "metadata": {
    "colab_type": "text",
    "id": "fOECSaLnJmji"
   },
   "source": [
    "# Context"
   ]
  },
  {
   "cell_type": "markdown",
   "metadata": {
    "colab_type": "text",
    "id": "Q0Eu3U-QJmjj"
   },
   "source": [
    "In a reinforcement learning algorithm, we modelize each step $t$ as an action $a_t$ obtained from a state $s_t$, i.e. $\\{(a_{t},s_{t})_{t\\leq T}\\}$ having the Markov property. We consider a discount factor $\\gamma \\in [0,1]$ that ensures convergence. The goal is to find among all the policies $\\pi$, one that maximizes the expected reward:\n",
    "\n",
    "\\begin{equation*}\n",
    "R(\\pi)=\\sum_{t\\leq T}E_{p^{\\pi}}[\\gamma^t r(s_{t},a_{t})] \\> ,\n",
    "\\end{equation*}\n",
    "\n",
    "where: \n",
    "\\begin{equation*}p^{\\pi}(a_{0},a_{1},s_{1},...,a_{T},s_{T})=p(a_{0})\\prod_{t=1}^{T}\\pi(a_{t}|s_{t})p(s_{t+1}|s_{t},a_{t}) \\> .\n",
    "\\end{equation*}\n",
    "\n",
    "We note the $Q$-function:\n",
    "\n",
    "\\begin{equation*}Q^\\pi(s,a)=E_{p^{\\pi}}[\\sum_{t\\leq T}\\gamma^{t}r(s_{t},a_{t})|s_{0}=s,a_{0}=a] \\> .\n",
    "\\end{equation*}\n",
    "\n",
    "Thus, the optimal Q function is:\n",
    "\\begin{equation*}\n",
    "Q^*(s,a)=\\max_{\\pi}Q^\\pi(s,a) \\> .\n",
    "\\end{equation*}\n",
    "\n",
    "In this project, we will apply the deep reinforcement learning techniques to a simple game: an agent will have to learn from scratch a policy that will permit it maximizing a reward."
   ]
  },
  {
   "cell_type": "markdown",
   "metadata": {
    "colab_type": "text",
    "id": "mExc0aoUJmjk"
   },
   "source": [
    "## The environment, the agent and the game"
   ]
  },
  {
   "cell_type": "markdown",
   "metadata": {
    "colab_type": "text",
    "id": "T14zkFJRJmjl"
   },
   "source": [
    "### The environment"
   ]
  },
  {
   "cell_type": "markdown",
   "metadata": {
    "colab_type": "text",
    "id": "Zh338ELAJmjn"
   },
   "source": [
    "```Environment``` is an abstract class that represents the states, rewards, and actions to obtain the new state."
   ]
  },
  {
   "cell_type": "code",
   "execution_count": 0,
   "metadata": {
    "colab": {},
    "colab_type": "code",
    "id": "epXB6uAJJmjp"
   },
   "outputs": [],
   "source": [
    "class Environment(object):\n",
    "    def __init__(self):\n",
    "        pass\n",
    "\n",
    "    def act(self, act):\n",
    "        \"\"\"\n",
    "        One can act on the environment and obtain its reaction:\n",
    "        - the new state\n",
    "        - the reward of the new state\n",
    "        - should we continue the game?\n",
    "\n",
    "        :return: state, reward, game_over\n",
    "        \"\"\"\n",
    "        pass\n",
    "\n",
    "\n",
    "    def reset(self):\n",
    "        \"\"\"\n",
    "        Reinitialize the environment to a random state and returns\n",
    "        the original state\n",
    "\n",
    "        :return: state\n",
    "        \"\"\"\n",
    "        pass\n",
    "    \n",
    "    def draw(self):\n",
    "        \"\"\"\n",
    "        Visualize in the console or graphically the current state\n",
    "        \"\"\"\n",
    "        pass"
   ]
  },
  {
   "cell_type": "markdown",
   "metadata": {
    "colab_type": "text",
    "id": "X0sG_JOLJmjt"
   },
   "source": [
    "The method ```act``` allows to act on the environment at a given state $s_t$ (stored internally), via action $a_t$. The method will return the new state $s_{t+1}$, the reward $r(s_{t},a_{t})$ and determines if $t\\leq T$ (*game_over*).\n",
    "\n",
    "The method ```reset``` simply reinitializes the environment to a random state $s_0$.\n",
    "\n",
    "The method ```draw``` displays the current state $s_t$ (this is useful to check the behavior of the Agent).\n",
    "\n",
    "We modelize $s_t$ as a tensor, while $a_t$ is an integer."
   ]
  },
  {
   "cell_type": "markdown",
   "metadata": {
    "colab_type": "text",
    "id": "1iyU4Ot4Jmjv"
   },
   "source": [
    "### The Agent"
   ]
  },
  {
   "cell_type": "markdown",
   "metadata": {
    "colab_type": "text",
    "id": "JBCjtZnSJmjx"
   },
   "source": [
    "The goal of the ```Agent``` is to interact with the ```Environment``` by proposing actions $a_t$ obtained from a given state $s_t$ to attempt to maximize its __reward__ $r(s_t,a_t)$. We propose the following abstract class:"
   ]
  },
  {
   "cell_type": "code",
   "execution_count": 0,
   "metadata": {
    "colab": {},
    "colab_type": "code",
    "id": "Wkxy5LgLJmjy"
   },
   "outputs": [],
   "source": [
    "class Agent(object):\n",
    "    def __init__(self, epsilon=0.1, n_action=4):\n",
    "        self.epsilon = epsilon\n",
    "        self.n_action = n_action\n",
    "    \n",
    "    def set_epsilon(self,e):\n",
    "        self.epsilon = e\n",
    "\n",
    "    def act(self,s,train=True):\n",
    "        \"\"\" This function should return the next action to do:\n",
    "        an integer between 0 and 4 (not included) with a random exploration of epsilon\"\"\"\n",
    "        if train:\n",
    "            if np.random.rand() <= self.epsilon:\n",
    "                a = np.random.randint(0, self.n_action, size=1)[0]\n",
    "            else:\n",
    "                a = self.learned_act(s)\n",
    "        else: # in some cases, this can improve the performance.. remove it if poor performances\n",
    "            a = self.learned_act(s)\n",
    "\n",
    "        return a\n",
    "\n",
    "    def learned_act(self,s):\n",
    "        \"\"\" Act via the policy of the agent, from a given state s\n",
    "        it proposes an action a\"\"\"\n",
    "        pass\n",
    "\n",
    "    def reinforce(self, s, n_s, a, r, game_over_):\n",
    "        \"\"\" This function is the core of the learning algorithm. \n",
    "        It takes as an input the current state s_, the next state n_s_\n",
    "        the action a_ used to move from s_ to n_s_ and the reward r_.\n",
    "        \n",
    "        Its goal is to learn a policy.\n",
    "        \"\"\"\n",
    "        pass\n",
    "\n",
    "    def save(self):\n",
    "        \"\"\" This function returns basic stats if applicable: the\n",
    "        loss and/or the model\"\"\"\n",
    "        pass\n",
    "\n",
    "    def load(self):\n",
    "        \"\"\" This function allows to restore a model\"\"\"\n",
    "        pass"
   ]
  },
  {
   "cell_type": "markdown",
   "metadata": {
    "colab_type": "text",
    "id": "-K_ApTRbJmj1"
   },
   "source": [
    "***\n",
    "__Question 1__:\n",
    "Explain the function act. Why is ```epsilon``` essential?"
   ]
  },
  {
   "cell_type": "markdown",
   "metadata": {
    "colab_type": "text",
    "id": "ArGMtJWpJmj3"
   },
   "source": [
    "<div class=\"alert alert-info\">The function act return the next action to do given the current state. In the training phase which is learning the policy, we need to explore the environnement in order to learn about new actions and improve the chances of getting future best rewards, but we also need to maximize our action's reward. For this purpose, the \"epsilon\" is essential because it makes possible to alternate between exploration and exploitation, it's always chosen to be small to not get poor expected rewards. When we finish the phase of training, there's no need for exploration anymore so we don't need the epsilon anymore. </div>"
   ]
  },
  {
   "cell_type": "markdown",
   "metadata": {
    "colab_type": "text",
    "id": "cVhb1OKSJmj7"
   },
   "source": [
    "***\n",
    "### The Game"
   ]
  },
  {
   "cell_type": "markdown",
   "metadata": {
    "colab_type": "text",
    "id": "ETHBFNoZJmj9"
   },
   "source": [
    "The ```Agent``` and the ```Environment``` work in an interlaced way as in the following (take some time to understand this code as it is the core of the project)\n",
    "\n",
    "```python\n",
    "\n",
    "epoch = 300\n",
    "env = Environment()\n",
    "agent = Agent()\n",
    "\n",
    "\n",
    "# Number of won games\n",
    "score = 0\n",
    "loss = 0\n",
    "\n",
    "\n",
    "for e in range(epoch):\n",
    "    # At each epoch, we restart to a fresh game and get the initial state\n",
    "    state = env.reset()\n",
    "    # This assumes that the games will end\n",
    "    game_over = False\n",
    "\n",
    "    win = 0\n",
    "    lose = 0\n",
    "    \n",
    "    while not game_over:\n",
    "        # The agent performs an action\n",
    "        action = agent.act(state)\n",
    "\n",
    "        # Apply an action to the environment, get the next state, the reward\n",
    "        # and if the games end\n",
    "        prev_state = state\n",
    "        state, reward, game_over = env.act(action)\n",
    "\n",
    "        # Update the counters\n",
    "        if reward > 0:\n",
    "            win = win + reward\n",
    "        if reward < 0:\n",
    "            lose = lose -reward\n",
    "\n",
    "        # Apply the reinforcement strategy\n",
    "        loss = agent.reinforce(prev_state, state,  action, reward, game_over)\n",
    "\n",
    "    # Save as a mp4\n",
    "    if e % 10 == 0:\n",
    "        env.draw(e)\n",
    "\n",
    "    # Update stats\n",
    "    score += win-lose\n",
    "\n",
    "    print(\"Epoch {:03d}/{:03d} | Loss {:.4f} | Win/lose count {}/{} ({})\"\n",
    "          .format(e, epoch, loss, win, lose, win-lose))\n",
    "    agent.save()\n",
    "```"
   ]
  },
  {
   "cell_type": "markdown",
   "metadata": {
    "colab_type": "text",
    "id": "wprhKlW8Jmj_"
   },
   "source": [
    "# The game, *eat cheese*"
   ]
  },
  {
   "cell_type": "markdown",
   "metadata": {
    "colab_type": "text",
    "id": "ALxUspuRJmkC"
   },
   "source": [
    "A rat runs on an island and tries to eat as much as possible. The island is subdivided into $N\\times N$ cells, in which there are cheese (+0.5) and poisonous cells (-1). The rat has a visibility of 2 cells (thus it can see $5^2$ cells). The rat is given a time $T$ to accumulate as much food as possible. It can perform 4 actions: going up, down, left, right. \n",
    "\n",
    "The goal is to code an agent to solve this task that will learn by trial and error. We propose the following environment:"
   ]
  },
  {
   "cell_type": "code",
   "execution_count": 0,
   "metadata": {
    "colab": {},
    "colab_type": "code",
    "id": "Ot6ELsUYJmkD"
   },
   "outputs": [],
   "source": [
    "class Environment(object):\n",
    "    def __init__(self, grid_size=10, max_time=500, temperature=0.1):\n",
    "        grid_size = grid_size+4\n",
    "        self.grid_size = grid_size\n",
    "        self.max_time = max_time\n",
    "        self.temperature = temperature\n",
    "\n",
    "        #board on which one plays\n",
    "        self.board = np.zeros((grid_size,grid_size))\n",
    "        self.position = np.zeros((grid_size,grid_size))\n",
    "\n",
    "        # coordinate of the cat\n",
    "        self.x = 0\n",
    "        self.y = 1\n",
    "\n",
    "        # self time\n",
    "        self.t = 0\n",
    "\n",
    "        self.scale=16\n",
    "\n",
    "        self.to_draw = np.zeros((max_time+2, grid_size*self.scale, grid_size*self.scale, 3))\n",
    "\n",
    "\n",
    "    def draw(self,e):\n",
    "        skvideo.io.vwrite(str(e) + '.mp4', self.to_draw) #Save a video to file entirely from memory.\n",
    "\n",
    "    def get_frame(self,t):\n",
    "        b = np.zeros((self.grid_size,self.grid_size,3))+128\n",
    "        b[self.board>0,0] = 256\n",
    "        b[self.board < 0, 2] = 256\n",
    "        b[self.x,self.y,:]=256\n",
    "        b[-2:,:,:]=0\n",
    "        b[:,-2:,:]=0\n",
    "        b[:2,:,:]=0\n",
    "        b[:,:2,:]=0\n",
    "        \n",
    "        b =  cv2.resize(b, None, fx=self.scale, fy=self.scale, interpolation=cv2.INTER_NEAREST)\n",
    "\n",
    "        self.to_draw[t,:,:,:]=b\n",
    "\n",
    "\n",
    "    def act(self, action):\n",
    "        \"\"\"This function returns the new state, reward and decides if the\n",
    "        game ends.\"\"\"\n",
    "\n",
    "        self.get_frame(int(self.t))\n",
    "\n",
    "        self.position = np.zeros((self.grid_size, self.grid_size))\n",
    "\n",
    "        self.position[0:2,:]= -1\n",
    "        self.position[:,0:2] = -1\n",
    "        self.position[-2:, :] = -1\n",
    "        self.position[-2:, :] = -1\n",
    "\n",
    "        self.position[self.x, self.y] = 1\n",
    "        if action == 0:\n",
    "            if self.x == self.grid_size-3:\n",
    "                self.x = self.x-1\n",
    "            else:\n",
    "                self.x = self.x + 1\n",
    "        elif action == 1:\n",
    "            if self.x == 2:\n",
    "                self.x = self.x+1\n",
    "            else:\n",
    "                self.x = self.x-1\n",
    "        elif action == 2:\n",
    "            if self.y == self.grid_size - 3:\n",
    "                self.y = self.y - 1\n",
    "            else:\n",
    "                self.y = self.y + 1\n",
    "        elif action == 3:\n",
    "            if self.y == 2:\n",
    "                self.y = self.y + 1\n",
    "            else:\n",
    "                self.y = self.y - 1\n",
    "        else:\n",
    "            RuntimeError('Error: action not recognized')\n",
    "\n",
    "        self.t = self.t + 1\n",
    "        reward = self.board[self.x, self.y]\n",
    "        self.board[self.x, self.y] = 0\n",
    "        game_over = self.t > self.max_time\n",
    "        state = np.concatenate((self.board.reshape(self.grid_size, self.grid_size,1),\n",
    "                        self.position.reshape(self.grid_size, self.grid_size,1)),axis=2)\n",
    "        state = state[self.x-2:self.x+3,self.y-2:self.y+3,:]\n",
    "\n",
    "        return state, reward, game_over\n",
    "\n",
    "    def reset(self):\n",
    "        \"\"\"This function resets the game and returns the initial state\"\"\"\n",
    "\n",
    "        self.x = np.random.randint(3, self.grid_size-3, size=1)[0]\n",
    "        self.y = np.random.randint(3, self.grid_size-3, size=1)[0]\n",
    "\n",
    "\n",
    "        bonus = 0.5*np.random.binomial(1,self.temperature,size=self.grid_size**2)\n",
    "        bonus = bonus.reshape(self.grid_size,self.grid_size)\n",
    "\n",
    "        malus = -1.0*np.random.binomial(1,self.temperature,size=self.grid_size**2)\n",
    "        malus = malus.reshape(self.grid_size, self.grid_size)\n",
    "\n",
    "        self.to_draw = np.zeros((self.max_time+2, self.grid_size*self.scale, self.grid_size*self.scale, 3))\n",
    "\n",
    "\n",
    "        malus[bonus>0]=0\n",
    "\n",
    "        self.board = bonus + malus\n",
    "\n",
    "        self.position = np.zeros((self.grid_size, self.grid_size))\n",
    "        self.position[0:2,:]= -1\n",
    "        self.position[:,0:2] = -1\n",
    "        self.position[-2:, :] = -1\n",
    "        self.position[-2:, :] = -1\n",
    "        self.board[self.x,self.y] = 0\n",
    "        self.t = 0\n",
    "\n",
    "        state = np.concatenate((\n",
    "                               self.board.reshape(self.grid_size, self.grid_size,1),\n",
    "                        self.position.reshape(self.grid_size, self.grid_size,1)),axis=2)\n",
    "\n",
    "        state = state[self.x - 2:self.x + 3, self.y - 2:self.y + 3, :]\n",
    "        return state"
   ]
  },
  {
   "cell_type": "markdown",
   "metadata": {
    "colab_type": "text",
    "id": "Z1npgIxxJmkJ"
   },
   "source": [
    "The following elements are important because they correspond to the hyper parameters for this project:"
   ]
  },
  {
   "cell_type": "code",
   "execution_count": 0,
   "metadata": {
    "colab": {},
    "colab_type": "code",
    "id": "xgFari14JmkL"
   },
   "outputs": [],
   "source": [
    "# parameters\n",
    "size = 13\n",
    "T=200\n",
    "temperature=0.3\n",
    "epochs_train=20 # set small when debugging\n",
    "epochs_test=10 # set small when debugging\n",
    "\n",
    "# display videos\n",
    "def display_videos(name):\n",
    "    video = io.open(name, 'r+b').read()\n",
    "    encoded = base64.b64encode(video)\n",
    "    return '''<video alt=\"test\" controls>\n",
    "                <source src=\"data:video/mp4;base64,{0}\" type=\"video/mp4\" />\n",
    "             </video>'''.format(encoded.decode('ascii'))"
   ]
  },
  {
   "cell_type": "markdown",
   "metadata": {
    "colab_type": "text",
    "id": "uR8GuxldJmkO"
   },
   "source": [
    "__Question 2__ Explain the use of the arrays ```position``` and ```board```."
   ]
  },
  {
   "cell_type": "markdown",
   "metadata": {
    "colab_type": "text",
    "id": "_-WhXKgmJmkP"
   },
   "source": [
    "<div class=\"alert alert-info\">\n",
    "\n",
    "The array \"position\" is the representation of the island where cells with -1 are forbidden (the borders of the island) and the cells with 1 are the ones where the rat has been or is on. The cells with 0 are the cells where the rat has never been.\n",
    "\n",
    "The array \"board\" is the table that holds the rewards of every cell, when the rat is on a cell at time t, it's given the reward of this cell and this cell is put equal to 0 (since the rat has taken the reward which is either cheese, poisonous or nothing).\n",
    "</div>"
   ]
  },
  {
   "cell_type": "markdown",
   "metadata": {
    "colab_type": "text",
    "id": "Tnm94NsDJmkQ"
   },
   "source": [
    "## Random Agent"
   ]
  },
  {
   "cell_type": "markdown",
   "metadata": {
    "colab_type": "text",
    "id": "7C1MQ9CoJmkR"
   },
   "source": [
    "***\n",
    "__Question 3__ Implement a random Agent (only ```learned_act``` needs to be implemented):"
   ]
  },
  {
   "cell_type": "code",
   "execution_count": 0,
   "metadata": {
    "colab": {},
    "colab_type": "code",
    "id": "-2YTc4EJJmkT"
   },
   "outputs": [],
   "source": [
    "from random import randint\n",
    "\n",
    "class RandomAgent(Agent):\n",
    "    def __init__(self):\n",
    "        super(RandomAgent, self).__init__()\n",
    "        pass\n",
    "\n",
    "    def learned_act(self, s):\n",
    "        \n",
    "        return randint(0, 3)"
   ]
  },
  {
   "cell_type": "markdown",
   "metadata": {
    "colab_type": "text",
    "id": "jb3NWZLqJmkW"
   },
   "source": [
    "***\n",
    "***\n",
    "__Question 4__ Visualize the game moves. You need to fill in the following function for the evaluation:"
   ]
  },
  {
   "cell_type": "code",
   "execution_count": 0,
   "metadata": {
    "colab": {},
    "colab_type": "code",
    "id": "ZZAvFvFCJmkX"
   },
   "outputs": [],
   "source": [
    "def test(agent,env,epochs,prefix=''):\n",
    "    # Number of won games\n",
    "    score = 0\n",
    "        \n",
    "    for e in range(epochs):\n",
    "        \n",
    "        ##### FILL IN HERE\n",
    "        state = env.reset()\n",
    "        game_over = False\n",
    "        win = 0\n",
    "        lose = 0\n",
    "        while not game_over:\n",
    "            action = agent.learned_act(s=state)\n",
    "\n",
    "            prev_state = state\n",
    "            state, reward, game_over = env.act(action)\n",
    "\n",
    "            if reward > 0:\n",
    "                win = win + reward\n",
    "            if reward < 0:\n",
    "                lose = lose -reward\n",
    "       \n",
    "        # Save as a mp4\n",
    "        env.draw(prefix+str(e))\n",
    "        \n",
    "        \n",
    "\n",
    "        # Update stats\n",
    "        score = score + win-lose\n",
    "\n",
    "        print(\"Win/lose count {}/{}. Average score ({})\"\n",
    "              .format(win, lose, score/(1+e)))\n",
    "    print('Final score: '+str(score/epochs))    "
   ]
  },
  {
   "cell_type": "code",
   "execution_count": 17,
   "metadata": {
    "colab": {
     "base_uri": "https://localhost:8080/",
     "height": 364
    },
    "colab_type": "code",
    "id": "GUkucaQBJmka",
    "outputId": "2fe23970-3b89-4cbc-ff78-e4bb2246ed47"
   },
   "outputs": [
    {
     "name": "stdout",
     "output_type": "stream",
     "text": [
      "Win/lose count 11.5/19.0. Average score (-7.5)\n",
      "Win/lose count 8.0/8.0. Average score (-3.75)\n",
      "Win/lose count 11.5/14.0. Average score (-3.3333333333333335)\n",
      "Win/lose count 10.0/9.0. Average score (-2.25)\n",
      "Win/lose count 8.0/19.0. Average score (-4.0)\n",
      "Win/lose count 15.0/13.0. Average score (-3.0)\n",
      "Win/lose count 9.5/12.0. Average score (-2.9285714285714284)\n",
      "Win/lose count 10.0/20.0. Average score (-3.8125)\n",
      "Win/lose count 9.5/10.0. Average score (-3.4444444444444446)\n",
      "Win/lose count 13.5/11.0. Average score (-2.85)\n",
      "Final score: -2.85\n"
     ]
    },
    {
     "data": {
      "text/html": [
       "<video alt=\"test\" controls>\n",
       "                <source src=\"data:video/mp4;base64,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\" type=\"video/mp4\" />\n",
       "             </video>"
      ],
      "text/plain": [
       "<IPython.core.display.HTML object>"
      ]
     },
     "execution_count": 17,
     "metadata": {
      "tags": []
     },
     "output_type": "execute_result"
    }
   ],
   "source": [
    "# Initialize the game\n",
    "env = Environment(grid_size=size, max_time=T,temperature=temperature)\n",
    "\n",
    "# Initialize the agent!\n",
    "agent = RandomAgent()\n",
    "\n",
    "test(agent,env,epochs_test,prefix='random')\n",
    "HTML(display_videos('random0.mp4'))"
   ]
  },
  {
   "cell_type": "markdown",
   "metadata": {
    "colab_type": "text",
    "id": "2hWAbxAYJmkj"
   },
   "source": [
    "<div class=\"alert alert-info\">\n",
    "The final score is negative. It was expected since the agent chooses actions randomly. There's no reinforcement strategy.\n",
    "</div>"
   ]
  },
  {
   "cell_type": "markdown",
   "metadata": {
    "colab_type": "text",
    "id": "_4CyL4T2Jmkm"
   },
   "source": [
    "***\n",
    "## DQN"
   ]
  },
  {
   "cell_type": "markdown",
   "metadata": {
    "colab_type": "text",
    "id": "wisDukrgJmko"
   },
   "source": [
    "Let us assume here that $T=\\infty$.\n",
    "\n",
    "***\n",
    "__Question 5__ Let $\\pi$ be a policy, show that:\n",
    "\n",
    "\\begin{equation*}\n",
    "Q^{\\pi}(s,a)=E_{(s',a')\\sim p(.|s,a)}[r(s,a)+\\gamma Q^{\\pi}(s',a')]\n",
    "\\end{equation*}\n",
    "\n",
    "Then, show that for the optimal policy $\\pi^*$ (we assume its existence), the following holds: \n",
    "\n",
    "\\begin{equation*}\n",
    "Q^{*}(s,a)=E_{s'\\sim \\pi^*(.|s,a)}[r(s,a)+\\gamma\\max_{a'}Q^{*}(s',a')].\n",
    "\\end{equation*}\n",
    "Finally, deduce that a plausible objective is:\n",
    "\n",
    "\\begin{equation*}\n",
    "\\mathcal{L}(\\theta)=E_{s' \\sim \\pi^*(.|s,a)}\\Vert r+\\gamma\\max\\max_{a'}Q(s',a',\\theta)-Q(s,a,\\theta)\\Vert^{2}.\n",
    "\\end{equation*}\n",
    "\n",
    "\n"
   ]
  },
  {
   "cell_type": "markdown",
   "metadata": {
    "colab_type": "text",
    "id": "4nc2nMotJmkp"
   },
   "source": [
    "Since $T=\\infty$:\n",
    "\\begin{equation*} \n",
    "\\sum_{t=0}^{\\infty}\\gamma^{t}r(s_{t},a_{t}) = r(s_{0},a_{0}) + \\sum_{t=1}^{\\infty}\\gamma^{t}r(s_{t},a_{t}) = r(s_{0},a_{0}) + \\gamma\\sum_{t=0}^{\\infty}\\gamma^{t}r(s_{t+1},a_{t+1}) \\> .\n",
    "\\end{equation*}\n",
    "Then: \n",
    "\\begin{equation*}E_{p^{\\pi}}[\\sum_{t=0}^{\\infty}\\gamma^{t}r(s_{t},a_{t})|s_{0}=s,a_{0}=a] =E_{p^{\\pi}}[r(s,a) + \\gamma\\sum_{t=0}^{\\infty}\\gamma^{t}r(s_{t+1},a_{t+1}) |s_{0}=s,a_{0}=a] = r(s,a) + \\gamma E_{p^{\\pi}}[\\sum_{t=0}^{\\infty}\\gamma^{t}r(s_{t+1},a_{t+1}) |s_{0}=s,a_{0}=a] \\> \n",
    "\\end{equation*}\n",
    "And we have:\n",
    "\\begin{equation*}\n",
    "E_{p^{\\pi}}[\\sum_{t=0}^{\\infty}\\gamma^{t}r(s_{t+1},a_{t+1}) |s_{0}=s,a_{0}=a] = \\sum_{(s',a')}^{}p(s_{1}=s',a_{1}=a'|s_{0}=s,a_{0}=a)E_{p^{\\pi}}[\\sum_{t=0}^{\\infty}\\gamma^{t}r(s_{t+1},a_{t+1}) |s_{1}=s',a_{1}=a'] \n",
    "\\end{equation*}\n",
    "And: \n",
    "\\begin{equation*}\n",
    "E_{p^{\\pi}}[\\sum_{t=0}^{\\infty}\\gamma^{t}r(s_{t+1},a_{t+1}) |s_{1}=s',a_{1}=a'] = Q^{\\pi}(s',a')\n",
    "\\end{equation*}\n",
    "So, we get : \n",
    "\\begin{equation*}\n",
    " r(s,a) + \\gamma E_{p^{\\pi}}[\\sum_{t=0}^{\\infty}\\gamma^{t}r(s_{t+1},a_{t+1}) |s_{0}=s,a_{0}=a] = r(s,a) + \\gamma E_{(s',a')\\sim p(.|s,a)}[Q^{\\pi}(s',a')] = E_{(s',a')\\sim p(.|s,a)}[r(s,a)+\\gamma Q^{\\pi}(s',a')]\n",
    "\\end{equation*}\n",
    "Finally:\n",
    "\\begin{equation*}\n",
    "Q^{\\pi}(s,a)=E_{(s',a')\\sim p(.|s,a)}[r(s,a)+\\gamma Q^{\\pi}(s',a')]\n",
    "\\end{equation*}"
   ]
  },
  {
   "cell_type": "markdown",
   "metadata": {
    "colab_type": "text",
    "id": "2n4nHCG1Jmkr"
   },
   "source": [
    "Since: \n",
    "\\begin{equation*}\n",
    "Q^*(s,a)=\\max_{\\pi}Q^\\pi(s,a) \\> \n",
    "\\end{equation*}\n",
    "Then: \n",
    "\\begin{equation*}\n",
    "Q^*(s,a)=\\max_{\\pi}Q^\\pi(s,a)=\\max_{\\pi}E_{(s',a')\\sim p(.|s,a)}[r(s,a)+\\gamma Q^{\\pi}(s',a')] \\> \n",
    "\\end{equation*}\n",
    "So:\n",
    "\\begin{equation*}\n",
    "\\begin{aligned}\n",
    "Q^*(s,a)&=E_{s'\\sim \\pi*(.|s,a)}[r(s,a)+\\gamma \\max_{a',\\pi}Q^{\\pi}(s',a')] \\\\\n",
    "&=E_{s'\\sim \\pi*(.|s,a)}[r(s,a)+\\gamma \\max_{a}Q^{*}(s',a')] \n",
    "\\end{aligned}\n",
    "\\end{equation*}"
   ]
  },
  {
   "cell_type": "markdown",
   "metadata": {},
   "source": [
    "A plausible objective is:\n",
    "\\begin{equation*}\n",
    "\\mathcal{L}(\\theta)=E_{s' \\sim \\pi^*(.|s,a)}\\Vert r+\\gamma\\max_{a'}Q(s',a',\\theta)-Q(s,a,\\theta)\\Vert^{2}.\n",
    "\\end{equation*}\n",
    "where: \n",
    "$r+\\gamma\\max_{a'}Q(s',a',\\theta)$ : target\n",
    "and $Q(s,a,\\theta)$ : prediction"
   ]
  },
  {
   "cell_type": "markdown",
   "metadata": {
    "colab_type": "text",
    "id": "cI7sAYSOJmkt"
   },
   "source": [
    "***\n",
    "The DQN-learning algorithm relies on these derivations to train the parameters $\\theta$ of a Deep Neural Network:\n",
    "\n",
    "1. At the state $s_t$, select the action $a_t$ with best reward using $Q_t$ and store the results;\n",
    "\n",
    "2. Obtain the new state $s_{t+1}$ from the environment $p$;\n",
    "\n",
    "3. Store $(s_t,a_t,s_{t+1})$;\n",
    "\n",
    "4. Obtain $Q_{t+1}$ by minimizing  $\\mathcal{L}$ from a recovered batch from the previously stored results.\n",
    "\n",
    "***\n",
    "__Question 6__ Implement the class ```Memory``` that stores moves (in a replay buffer) via ```remember``` and provides a ```random_access``` to these. Specify a maximum memory size to avoid side effects. You can for example use a ```list()``` and set by default ```max_memory=100```."
   ]
  },
  {
   "cell_type": "code",
   "execution_count": 0,
   "metadata": {
    "colab": {},
    "colab_type": "code",
    "id": "0V-6lZo0Jmkw"
   },
   "outputs": [],
   "source": [
    "class Memory(object):\n",
    "    def __init__(self, max_memory=100):\n",
    "        self.max_memory = max_memory\n",
    "        self.memory = list()\n",
    "\n",
    "    def remember(self, m):\n",
    "        if len(self.memory)<self.max_memory:\n",
    "            self.memory.append(m)\n",
    "        else: \n",
    "            self.memory.pop(0)\n",
    "            self.memory.append(m)\n",
    "        \n",
    "\n",
    "    def random_access(self):\n",
    "        return self.memory[np.random.randint(len(self.memory))]"
   ]
  },
  {
   "cell_type": "markdown",
   "metadata": {
    "colab_type": "text",
    "id": "ciz_JnWIJmk3"
   },
   "source": [
    "***\n",
    "The pipeline we will use for training is given below:"
   ]
  },
  {
   "cell_type": "code",
   "execution_count": 0,
   "metadata": {
    "colab": {},
    "colab_type": "code",
    "id": "fG3DVaTLJmk4"
   },
   "outputs": [],
   "source": [
    "def train(agent,env,epoch,prefix=''):\n",
    "    # Number of won games\n",
    "    score = 0\n",
    "    loss = 0\n",
    "\n",
    "    for e in range(epoch):\n",
    "        # At each epoch, we restart to a fresh game and get the initial state\n",
    "        state = env.reset()\n",
    "        # This assumes that the games will terminate\n",
    "        game_over = False\n",
    "\n",
    "        win = 0\n",
    "        lose = 0\n",
    "\n",
    "        while not game_over:\n",
    "            # The agent performs an action\n",
    "            action = agent.act(state)\n",
    "\n",
    "            # Apply an action to the environment, get the next state, the reward\n",
    "            # and if the games end\n",
    "            prev_state = state\n",
    "            state, reward, game_over = env.act(action)\n",
    "\n",
    "            # Update the counters\n",
    "            if reward > 0:\n",
    "                win = win + reward\n",
    "            if reward < 0:\n",
    "                lose = lose -reward\n",
    "\n",
    "            # Apply the reinforcement strategy\n",
    "            loss = agent.reinforce(prev_state, state,  action, reward, game_over)\n",
    "\n",
    "        # Save as a mp4\n",
    "        if e % 10 == 0:\n",
    "            env.draw(prefix+str(e))\n",
    "\n",
    "        # Update stats\n",
    "        score += win-lose\n",
    "\n",
    "        print(\"Epoch {:03d}/{:03d} | Loss {:.4f} | Win/lose count {}/{} ({})\"\n",
    "              .format(e, epoch, loss, win, lose, win-lose))\n",
    "        agent.save(name_weights=prefix+'model.h5',name_model=prefix+'model.json')"
   ]
  },
  {
   "cell_type": "markdown",
   "metadata": {
    "colab_type": "text",
    "id": "_wMHtDtyJmk-"
   },
   "source": [
    "***\n",
    "__Question 7__ Implement the DQN training algorithm using a cascade of fully connected layers. You can use different learning rate, batch size or memory size parameters. In particular, the loss might oscillate while the player will start to win the games. You have to find a good criterium."
   ]
  },
  {
   "cell_type": "code",
   "execution_count": 0,
   "metadata": {
    "colab": {},
    "colab_type": "code",
    "id": "6_wCKDfmJmlA"
   },
   "outputs": [],
   "source": [
    "class DQN(Agent):\n",
    "    def __init__(self, grid_size,  epsilon = 0.1, memory_size=100, batch_size = 16,n_state=2):\n",
    "        super(DQN, self).__init__(epsilon = epsilon)\n",
    "\n",
    "        # Discount for Q learning\n",
    "        self.discount = 0.99\n",
    "        \n",
    "        self.grid_size = grid_size\n",
    "        \n",
    "        # number of state\n",
    "        self.n_state = n_state\n",
    "\n",
    "        # Memory\n",
    "        self.memory = Memory(memory_size)\n",
    "        \n",
    "        # Batch size when learning\n",
    "        self.batch_size = batch_size\n",
    "\n",
    "    def learned_act(self, s):\n",
    "        s = s.reshape(1,5,5,self.n_state)\n",
    "        return np.argmax(self.model.predict(s))\n",
    "      \n",
    "\n",
    "    def reinforce(self, s_, n_s_, a_, r_, game_over_):\n",
    "        # Two steps: first memorize the states, second learn from the pool\n",
    "\n",
    "        self.memory.remember([s_, n_s_, a_, r_, game_over_])\n",
    "        \n",
    "        input_states = np.zeros((self.batch_size, 5,5,self.n_state))\n",
    "        target_q = np.zeros((self.batch_size, 4))\n",
    "        \n",
    "        for i in range(self.batch_size):\n",
    "            ######## FILL IN\n",
    "            s_, n_s_, a_, r_, game_over_ = self.memory.random_access()\n",
    "            input_states[i] = s_\n",
    "            if game_over_:\n",
    "                ######## FILL IN\n",
    "                target_q[i,int(a_)] = r_\n",
    "            else:\n",
    "                ######## FILL IN\n",
    "                n_s_ = n_s_.reshape(1,5,5,self.n_state)\n",
    "                target_q[i,int(a_)] = r_ + self.discount*np.max(self.model.predict(n_s_))\n",
    "        ######## FILL IN\n",
    "        # HINT: Clip the target to avoid exploiding gradients.. -- clipping is a bit tighter\n",
    "        target_q = np.clip(target_q, -3, 3)\n",
    "\n",
    "        l = self.model.train_on_batch(input_states, target_q)\n",
    "\n",
    "\n",
    "        return l\n",
    "\n",
    "    def save(self,name_weights='model.h5',name_model='model.json'):\n",
    "        self.model.save_weights(name_weights, overwrite=True)\n",
    "        with open(name_model, \"w\") as outfile:\n",
    "            json.dump(self.model.to_json(), outfile)\n",
    "            \n",
    "    def load(self,name_weights='model.h5',name_model='model.json'):\n",
    "        with open(name_model, \"r\") as jfile:\n",
    "            model = model_from_json(json.load(jfile))\n",
    "        model.load_weights(name_weights)\n",
    "        model.compile(\"sgd\", \"mse\")\n",
    "        self.model = model\n",
    "\n",
    "            \n",
    "class DQN_FC(DQN):\n",
    "    def __init__(self, *args, lr=0.1,**kwargs):\n",
    "        super(DQN_FC, self).__init__( *args,**kwargs)\n",
    "        \n",
    "        # NN Model\n",
    "        \n",
    "        ####### FILL IN\n",
    "        model = Sequential()\n",
    "        model.add(Dense(units=64, activation='relu', input_shape=(5,5,self.n_state)))\n",
    "        model.add(Flatten())\n",
    "        model.add(Dense(units=32, activation='relu'))\n",
    "        model.add(Dense(units=4, activation='linear'))\n",
    "        # Linear Output Layer as we are estimating a Function Q[S,A]\n",
    "\n",
    "        model.compile(loss='mse', optimizer='adam') \n",
    "        \n",
    "        model.compile(sgd(lr=lr, decay=1e-4, momentum=0.0), \"mse\")\n",
    "        self.model = model"
   ]
  },
  {
   "cell_type": "code",
   "execution_count": 24,
   "metadata": {
    "colab": {
     "base_uri": "https://localhost:8080/",
     "height": 595
    },
    "colab_type": "code",
    "id": "xEhHZJpXJmlF",
    "outputId": "9c88d871-a99c-4ab9-fead-fe000c7e11cd"
   },
   "outputs": [
    {
     "name": "stdout",
     "output_type": "stream",
     "text": [
      "WARNING:tensorflow:From /usr/local/lib/python3.6/dist-packages/tensorflow/python/ops/math_ops.py:3066: to_int32 (from tensorflow.python.ops.math_ops) is deprecated and will be removed in a future version.\n",
      "Instructions for updating:\n",
      "Use tf.cast instead.\n",
      "Epoch 000/020 | Loss 0.0097 | Win/lose count 6.5/6.0 (0.5)\n",
      "Epoch 001/020 | Loss 0.0033 | Win/lose count 4.0/7.0 (-3.0)\n",
      "Epoch 002/020 | Loss 0.0044 | Win/lose count 7.5/2.0 (5.5)\n",
      "Epoch 003/020 | Loss 0.0146 | Win/lose count 4.5/7.0 (-2.5)\n",
      "Epoch 004/020 | Loss 0.0045 | Win/lose count 6.0/4.0 (2.0)\n",
      "Epoch 005/020 | Loss 0.0059 | Win/lose count 9.0/9.0 (0.0)\n",
      "Epoch 006/020 | Loss 0.0039 | Win/lose count 4.5/0 (4.5)\n",
      "Epoch 007/020 | Loss 0.0038 | Win/lose count 3.5/4.0 (-0.5)\n",
      "Epoch 008/020 | Loss 0.0161 | Win/lose count 2.5/4.0 (-1.5)\n",
      "Epoch 009/020 | Loss 0.0033 | Win/lose count 3.0/3.0 (0.0)\n",
      "Epoch 010/020 | Loss 0.0046 | Win/lose count 4.0/1.0 (3.0)\n",
      "Epoch 011/020 | Loss 0.0067 | Win/lose count 7.0/1.0 (6.0)\n",
      "Epoch 012/020 | Loss 0.0075 | Win/lose count 5.5/0 (5.5)\n",
      "Epoch 013/020 | Loss 0.0040 | Win/lose count 1.0/0 (1.0)\n",
      "Epoch 014/020 | Loss 0.0056 | Win/lose count 7.5/4.0 (3.5)\n",
      "Epoch 015/020 | Loss 0.0055 | Win/lose count 14.0/5.0 (9.0)\n",
      "Epoch 016/020 | Loss 0.0058 | Win/lose count 6.0/3.0 (3.0)\n",
      "Epoch 017/020 | Loss 0.0065 | Win/lose count 4.5/2.0 (2.5)\n",
      "Epoch 018/020 | Loss 0.0030 | Win/lose count 5.0/1.0 (4.0)\n",
      "Epoch 019/020 | Loss 0.0031 | Win/lose count 7.0/3.0 (4.0)\n"
     ]
    },
    {
     "data": {
      "text/html": [
       "<video alt=\"test\" controls>\n",
       "                <source src=\"data:video/mp4;base64,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\" type=\"video/mp4\" />\n",
       "             </video>"
      ],
      "text/plain": [
       "<IPython.core.display.HTML object>"
      ]
     },
     "execution_count": 24,
     "metadata": {
      "tags": []
     },
     "output_type": "execute_result"
    }
   ],
   "source": [
    "env = Environment(grid_size=size, max_time=T, temperature=0.3)\n",
    "agent = DQN_FC(size, lr=.1, epsilon = 0.1, memory_size=2000, batch_size = 32)\n",
    "train(agent, env, epochs_train, prefix='fc_train')\n",
    "HTML(display_videos('fc_train10.mp4'))"
   ]
  },
  {
   "cell_type": "markdown",
   "metadata": {
    "colab_type": "text",
    "id": "7LMd4M4lJmlI"
   },
   "source": [
    "***\n",
    "***\n",
    "__Question 8__ Implement the DQN training algorithm using a CNN (for example, 2 convolutional layers and one final fully connected layer)."
   ]
  },
  {
   "cell_type": "code",
   "execution_count": 0,
   "metadata": {
    "colab": {},
    "colab_type": "code",
    "id": "JG-k4wjkJmlK"
   },
   "outputs": [],
   "source": [
    "class DQN_CNN(DQN):\n",
    "    def __init__(self, *args,lr=0.1,**kwargs):\n",
    "        super(DQN_CNN, self).__init__(*args,**kwargs)\n",
    "\n",
    "        ###### FILL IN\n",
    "        model = Sequential()\n",
    "        model.add(Conv2D(filters = 16, kernel_size = (2,2), strides = 1, padding = 'valid', activation = 'relu', \n",
    "                 input_shape=(5,5,self.n_state)))\n",
    "        model.add(Conv2D(filters = 16, kernel_size = (2,2), strides = 1, padding = 'valid', activation = 'relu', \n",
    "                 input_shape=(5,5,self.n_state)))\n",
    "        model.add(Flatten())\n",
    "        model.add(Dense(4, activation='linear'))\n",
    "        model.compile(sgd(lr=lr, decay=1e-4, momentum=0.0), \"mse\")\n",
    "        self.model = model\n",
    "        "
   ]
  },
  {
   "cell_type": "code",
   "execution_count": 24,
   "metadata": {
    "colab": {
     "base_uri": "https://localhost:8080/",
     "height": 522
    },
    "colab_type": "code",
    "id": "e1Z7hF9_JmlO",
    "outputId": "c8801943-864e-4d80-c73b-5b75f5329291"
   },
   "outputs": [
    {
     "name": "stdout",
     "output_type": "stream",
     "text": [
      "Epoch 000/020 | Loss 0.0004 | Win/lose count 1.0/0 (1.0)\n",
      "Epoch 001/020 | Loss 0.0041 | Win/lose count 2.5/3.0 (-0.5)\n",
      "Epoch 002/020 | Loss 0.0020 | Win/lose count 7.0/5.0 (2.0)\n",
      "Epoch 003/020 | Loss 0.0094 | Win/lose count 1.5/4.0 (-2.5)\n",
      "Epoch 004/020 | Loss 0.0095 | Win/lose count 2.0/2.0 (0.0)\n",
      "Epoch 005/020 | Loss 0.0029 | Win/lose count 4.5/5.0 (-0.5)\n",
      "Epoch 006/020 | Loss 0.0010 | Win/lose count 0.5/7.0 (-6.5)\n",
      "Epoch 007/020 | Loss 0.0076 | Win/lose count 3.5/2.0 (1.5)\n",
      "Epoch 008/020 | Loss 0.0009 | Win/lose count 7.5/4.0 (3.5)\n",
      "Epoch 009/020 | Loss 0.0039 | Win/lose count 4.0/2.0 (2.0)\n",
      "Epoch 010/020 | Loss 0.0101 | Win/lose count 4.5/1.0 (3.5)\n",
      "Epoch 011/020 | Loss 0.0053 | Win/lose count 2.0/2.0 (0.0)\n",
      "Epoch 012/020 | Loss 0.0028 | Win/lose count 3.5/3.0 (0.5)\n",
      "Epoch 013/020 | Loss 0.0060 | Win/lose count 3.5/2.0 (1.5)\n",
      "Epoch 014/020 | Loss 0.0031 | Win/lose count 5.0/1.0 (4.0)\n",
      "Epoch 015/020 | Loss 0.0119 | Win/lose count 4.5/5.0 (-0.5)\n",
      "Epoch 016/020 | Loss 0.0005 | Win/lose count 4.0/3.0 (1.0)\n",
      "Epoch 017/020 | Loss 0.0131 | Win/lose count 6.5/4.0 (2.5)\n",
      "Epoch 018/020 | Loss 0.0040 | Win/lose count 7.0/6.0 (1.0)\n",
      "Epoch 019/020 | Loss 0.0052 | Win/lose count 4.0/4.0 (0.0)\n"
     ]
    },
    {
     "data": {
      "text/html": [
       "<video alt=\"test\" controls>\n",
       "                <source src=\"data:video/mp4;base64,AAAAIGZ0eXBpc29tAAACAGlzb21pc28yYXZjMW1wNDEAAAAIZnJlZQAAFoZtZGF0AAACrQYF//+p3EXpvebZSLeWLNgg2SPu73gyNjQgLSBjb3JlIDE1MiByMjg1NCBlOWE1OTAzIC0gSC4yNjQvTVBFRy00IEFWQyBjb2RlYyAtIENvcHlsZWZ0IDIwMDMtMjAxNyAtIGh0dHA6Ly93d3cudmlkZW9sYW4ub3JnL3gyNjQuaHRtbCAtIG9wdGlvbnM6IGNhYmFjPTEgcmVmPTMgZGVibG9jaz0xOjA6MCBhbmFseXNlPTB4MToweDExMSBtZT1oZXggc3VibWU9NyBwc3k9MSBwc3lfcmQ9MS4wMDowLjAwIG1peGVkX3JlZj0xIG1lX3JhbmdlPTE2IGNocm9tYV9tZT0xIHRyZWxsaXM9MSA4eDhkY3Q9MCBjcW09MCBkZWFkem9uZT0yMSwxMSBmYXN0X3Bza2lwPTEgY2hyb21hX3FwX29mZnNldD00IHRocmVhZHM9MyBsb29rYWhlYWRfdGhyZWFkcz0xIHNsaWNlZF90aHJlYWRzPTAgbnI9MCBkZWNpbWF0ZT0xIGludGVybGFjZWQ9MCBibHVyYXlfY29tcGF0PTAgY29uc3RyYWluZWRfaW50cmE9MCBiZnJhbWVzPTMgYl9weXJhbWlkPTIgYl9hZGFwdD0xIGJfYmlhcz0wIGRpcmVjdD0xIHdlaWdodGI9MSBvcGVuX2dvcD0wIHdlaWdodHA9MiBrZXlpbnQ9MjUwIGtleWludF9taW49MjUgc2NlbmVjdXQ9NDAgaW50cmFfcmVmcmVzaD0wIHJjX2xvb2thaGVhZD00MCByYz1jcmYgbWJ0cmVlPTEgY3JmPTIzLjAgcWNvbXA9MC42MCBxcG1pbj0wIHFwbWF4PTY5IHFwc3RlcD00IGlwX3JhdGlvPTEuNDAgYXE9MToxLjAwAIAAAAMGZYiEADP//vaG+BTYUyP+T7/8I/+5H7cfWfrixkIJvrVeQ9GAMl8a/5lGYaXpyc8t7R+vTNAEZz6HlLJIofgUkwDfMsjnE4otLihUnQqRmUWtB8pO1VPCCcpRuZQiE1R6NZ2VX2aS9py+fHo+0igjo1V9Uroz7UA9ysx6M0k8d6CkRUrb468BXEgqr8cL/HBPQKAnxqtDk8kWYzo6UwSPT9ABz/qdQD0bESwsf5+/TqNTz6wSYDvU0luEiUceCipFp/DOqn0B/lJG3MwMYYiWvTkuECWAJuXzkBMM/L3jqdJDMSfoxYkgpER9EIaB4ZlmnlcFBkfGjueNEzZC2mwBAkt4tNFxHUVTJgeK/mp/W5uviaXgq71270nG0hOy8oRAIr8/vrv+QnkzozKILigGx5eXmz+3vYAIkwZNNSKfOnfhw+mT3iQ0RztDZHMBdfhcP66uEw/JzEheJhiN2AwvQKMoAEmPaSpLYXKdqtADAZel8eb3RPzia8lCNpppC8a2BzoWv5ecZ1iBPx+Zp6KPk+Z33ov8WA0DaUbtpGVFN0zonXSfWsTJvxR72HJMcIGkVHMId5Ip2uSUff1FCn+IFP6cPXIpxpxyWY4ZtjESpr1huOooOZjChlKf+DuqUemiRsD0dH6idyP09gKcx5U8zgnMzOKuhizzGgmpmdGnvbEFFbTmThpyg4P4uUQ+HMNiOPLpHi47TrZJH5yXDtp2VUbSqfiMUTzJWZjXVRlvi7QCcjjQuUe6vDMPdjtS8NwVVbkNicAm5d7JWnirrzpKyeGoc/8gJE0CNAnPk7OLOlVGDjguCuKwQwP5noXmOe2TyAZq8Dcw2m3kO/BZAGfBrksBge3eogCKUDU4QAU9nQiemYHqa+UQ+Bw0VTL+PRBip49ZWTw9wDIAjN/WIiC3u6MsrBr9KqjXx6AhRoyoFZ1vS7vD3hpc+P//gOzNfRxZZbAT34lCYoaw71eX+oABqNCsBXQWAfI8SbjDBjXAWITe4WVZ2Kkovt/6NaNv+WocNlEAAFnBAAAAE0GaIWxDP/6eEAJa6Rz+HOb6y/wAAAAXQZpCPCGTKYQz//6eEAJqIcfzwX8kNO0AAAAXQZpjSeEPJlMCG//+p4QAouK0dVDbbTMAAAAeQZqFSeEPJlMFETw3//6nhACoe6n3ebnJ4Hg3SGJfAAAAEAGepGpCvwCG5o3mmKtpE0EAAAAZQZqmSeEPJlMCG//+p4QAbH2D/CcFuhJqQQAAABlBmsdJ4Q8mUwId//6plgAkBRzrQ9X3yIXBAAAAEkGa60nhDyZTAh3//qmWAACVgAAAAAxBnwlFETwv/wAAsoAAAAAPAZ8odEK/ADttgaHnPLtTAAAADwGfKmpCvwA5ahuwz1Z7WwAAABNBmy9JqEFomUwId//+qZYAAJWAAAAADEGfTUURLC//AACygQAAAA8Bn2x0Qr8AO22Boec8u1MAAAAPAZ9uakK/ADtc4aJXPLtTAAAAE0Gbc0moQWyZTAh3//6plgAAlYAAAAAMQZ+RRRUsL/8AALKAAAAADwGfsHRCvwA7bYGh5zy7UwAAAA8Bn7JqQr8AO1zholc8u1MAAAATQZu3SahBbJlMCHf//qmWAACVgAAAAAxBn9VFFSwv/wAAsoEAAAAPAZ/0dEK/ADttgaHnPLtTAAAADwGf9mpCvwA7XOGiVzy7UwAAABJBm/tJqEFsmUwIb//+p4QAAScAAAAMQZ4ZRRUsL/8AALKAAAAADwGeOHRCvwA7bYGh5zy7UwAAAA8BnjpqQr8AO1zholc8u1MAAAASQZo/SahBbJlMCG///qeEAAEnAAAADEGeXUUVLC//AACygQAAAA8Bnnx0Qr8AO22Boec8u1MAAAAPAZ5+akK/ADtc4aJXPLtTAAAAGkGaYEmoQWyZTAhv//6nhABuaRP9VvmPxDuhAAAAGUGagUnhClJlMCHf/qmWADjjp+U0Y/Wkx8AAAAAoQZqlSeEOiZTAh3/+qZYAO/79XMsrVNV4FKJAvApmuIkhJqvj8VM96QAAABBBnsNFETwv/wBHZ6yHKyLgAAAADwGe4nRCvwBiJD8b1BGtxwAAAA8BnuRqQr8AYixA8mCLqYEAAAAXQZrpSahBaJlMCHf//qmWAD1e0v6twcEAAAAOQZ8HRREsL/8ASWgAzKEAAAAQAZ8mdEK/AGSeTdHbfCrpgAAAAA8BnyhqQr8AZIFjRK55dZUAAAATQZstSahBbJlMCHf//qmWAACVgQAAAAxBn0tFFSwv/wAAsoAAAAAQAZ9qdEK/AGSeTdHbfCrpgAAAAA8Bn2xqQr8AZIFjRK55dZUAAAATQZtxSahBbJlMCHf//qmWAACVgQAAAAxBn49FFSwv/wAAsoEAAAAQAZ+udEK/AGSeTdHbfCrpgAAAAA8Bn7BqQr8AZIFjRK55dZUAAAATQZu1SahBbJlMCHf//qmWAACVgQAAAAxBn9NFFSwv/wAAsoAAAAAQAZ/ydEK/AGSeTdHbfCrpgAAAAA8Bn/RqQr8AZIFjRK55dZUAAAATQZv5SahBbJlMCHf//qmWAACVgAAAAAxBnhdFFSwv/wAAsoEAAAAQAZ42dEK/AGSeTdHbfCrpgQAAAA8BnjhqQr8AZIFjRK55dZUAAAATQZo9SahBbJlMCHf//qmWAACVgQAAAAxBnltFFSwv/wAAsoAAAAAQAZ56dEK/AGSeTdHbfCrpgQAAAA8BnnxqQr8AZIFjRK55dZUAAAATQZphSahBbJlMCHf//qmWAACVgAAAAAxBnp9FFSwv/wAAsoAAAAAQAZ6+dEK/AGSeTdHbfCrpgQAAAA8BnqBqQr8AZIFjRK55dZUAAAAcQZqlSahBbJlMCG///qeEAL3itUx/q3b7B+t/HQAAABBBnsNFFSwv/wBxU6d/m79YAAAADwGe4nRCvwBknk3nnFrKgQAAAA8BnuRqQr8AmuxHkwPXtwcAAAAcQZrmSahBbJlMCHf//qmWAJQiw3RiEugx/4gtoQAAABZBmwpJ4QpSZTAhv/6nhAEt+On2uLaBAAAADkGfKEU0TC//ALWyoDFgAAAAEAGfR3RCvwDytga30sbRTbgAAAAQAZ9JakK/APJzhr6oOnloOQAAABJBm05JqEFomUwIb//+p4QAAScAAAAMQZ9sRREsL/8AALKAAAAAEAGfi3RCvwDqrAN+AD7dQsEAAAAQAZ+NakK/APJzhr6oOnloOQAAABpBm49JqEFsmUwIb//+p4QBJfo59zIoSHBbQQAAABpBm7BJ4QpSZTAh3/6plgBgvbUGz0s6Op5FqQAAABtBm9JJ4Q6JlMFNEw7//qmWAJQv3ajfHn0JrYAAAAAQAZ/xakK/AO0zB5MD17atgQAAABJBm/ZJ4Q8mUwId//6plgAAlYAAAAAMQZ4URRE8L/8AALKAAAAAEAGeM3RCvwDytga30sbRTbkAAAAQAZ41akK/AOqsA3s8fbqFgAAAABNBmjpJqEFomUwId//+qZYAAJWBAAAADEGeWEURLC//AACygQAAABABnnd0Qr8A8rYGt9LG0U24AAAAEAGeeWpCvwDqrAN7PH26hYEAAAATQZp+SahBbJlMCHf//qmWAACVgAAAAAxBnpxFFSwv/wAAsoEAAAAQAZ67dEK/APK2BrfSxtFNuQAAABABnr1qQr8A6qwDezx9uoWAAAAAE0GaokmoQWyZTAh3//6plgAAlYAAAAAMQZ7ARRUsL/8AALKBAAAAEAGe/3RCvwDytga30sbRTbgAAAAQAZ7hakK/AOqsA3s8fbqFgQAAABNBmuZJqEFsmUwId//+qZYAAJWAAAAADEGfBEUVLC//AACygQAAABABnyN0Qr8A8rYGt9LG0U25AAAAEAGfJWpCvwDyc4a+qDp5aDkAAAATQZsqSahBbJlMCHf//qmWAACVgQAAAAxBn0hFFSwv/wAAsoAAAAAQAZ9ndEK/AOqsA34APt1CwAAAABABn2lqQr8A8nOGvqg6eWg5AAAAGkGbbUmoQWyZTAh3//6plgCYFHOk0Q3g8hQcAAAAEkGfi0UVLCv/APKzF7CwX5ZzQAAAABABn6xqQr8A8rPAuv1ikULBAAAAE0GbsUmoQWyZTAh3//6plgAAlYEAAAAQQZ/PRRUsL/8AteS2b9HudwAAABABn+50Qr8A8nDAZJb/W1TAAAAAEAGf8GpCvwDysweTA9e2qYAAAAATQZv1SahBbJlMCHf//qmWAACVgQAAABBBnhNFFSwv/wC15LZv0e52AAAAEAGeMnRCvwDycMBklv9bVMAAAAAQAZ40akK/APKzB5MD17apgQAAABJBmjlJqEFsmUwIb//+p4QAAScAAAAQQZ5XRRUsL/8AteS2b9HudwAAABABnnZ0Qr8A8nDAZJb/W1TBAAAAEAGeeGpCvwDysweTA9e2qYAAAAAZQZp8SahBbJlMCG///qeEAS346Y/w+rbZTQAAAA9BnppFFSwr/wDygrhrQcAAAAAPAZ67akK/AO1YEuV/fuzBAAAAGkGavUmoQWyZTAh3//6plgCU/RzSzo6nkUPBAAAAF0GawEnhClJlMCHf/qmWAJQqbWl/bAF7AAAAEkGe/kU0TCv/AO0zF7CwX5Z1wAAAABABnx9qQr8A7TPCHjQ1jKaBAAAAI0GbBEmoQWiZTAh3//6plgCh+23/5ZhHMss+fb3rs4dmLjZgAAAAEUGfIkURLC//AL7PmSxn5cnBAAAADwGfQXRCvwD4RSY3qCNZZQAAAA8Bn0NqQr8A/nmiakps+YEAAAATQZtISahBbJlMCHf//qmWAACVgQAAAAxBn2ZFFSwv/wAAsoEAAAAPAZ+FdEK/AP7cd0dt8KltAAAADwGfh2pCvwD+eaILUeXSbgAAABNBm4xJqEFsmUwId//+qZYAAJWAAAAADEGfqkUVLC//AACygQAAAA8Bn8l0Qr8A/tx3R23wqW0AAAAPAZ/LakK/AP55ogtR5dJuAAAAE0Gb0EmoQWyZTAh3//6plgAAlYEAAAAMQZ/uRRUsL/8AALKBAAAADwGeDXRCvwD+3HdHbfCpbQAAAA8Bng9qQr8A/nmiC1Hl0m4AAAASQZoUSahBbJlMCG///qeEAAEnAAAADEGeMkUVLC//AACygQAAAA8BnlF0Qr8A/tx3R23wqW0AAAAPAZ5TakK/AP55ogtR5dJuAAAAG0GaV0moQWyZTAhv//6nhAE1+RwHN17M+CK5vQAAABFBnnVFFSwr/wD+zRvNCwfaNgAAAA4BnpZqQr8A/pRjJuSUbQAAABxBmphJqEFsmUwIb//+p4QCQdE/1K4DAJr+xEPBAAAAGEGauUnhClJlMCHf/qmWATOllZxWhsR0wAAAABJBmt1J4Q6JlMCHf/6plgAAlYEAAAAMQZ77RRE8L/8AALKAAAAAEAGfGnRCvwGTeTeYJY2ikLEAAAAPAZ8cakK/AYTUTkDI2ikTAAAAE0GbAUmoQWiZTAh3//6plgAAlYAAAAAMQZ8/RREsL/8AALKAAAAAEAGfXnRCvwGTeTeYJY2ikLEAAAAQAZ9AakK/AZMFjX1QdPLKSAAAABxBm0VJqEFsmUwId//+qZYBN/JL8QwqBaKYfqW1AAAAEEGfY0UVLC//AR7P3OFk+bgAAAAPAZ+CdEK/AYlJRCmCLKmBAAAAEAGfhGpCvwGTZua48VbRt+EAAAATQZuJSahBbJlMCHf//qmWAACVgQAAAAxBn6dFFSwv/wAAsoEAAAAPAZ/GdEK/APtUjiOy7KltAAAADwGfyGpCvwD7VI3WerPSbgAAABNBm81JqEFsmUwId//+qZYAAJWBAAAADEGf60UVLC//AACygAAAAA8Bngp0Qr8A+1SOI7LsqW0AAAAPAZ4MakK/APtUjdZ6s9JvAAAAE0GaEUmoQWyZTAh3//6plgAAlYEAAAAMQZ4vRRUsL/8AALKBAAAADwGeTnRCvwD7VI4jsuypbQAAAA8BnlBqQr8A+1SN1nqz0m4AAAATQZpVSahBbJlMCHf//qmWAACVgQAAAAxBnnNFFSwv/wAAsoAAAAAPAZ6SdEK/APtUjiOy7KltAAAADwGelGpCvwD7VI3WerPSbwAAABpBmphJqEFsmUwId//+qZYAoftLwtQT+lBWwAAAAA9BnrZFFSwr/wD+k3DWfMEAAAANAZ7XakK/AP8NIt6z5wAAABdBmtxJqEFsmUwIb//+p4QAyPvs+1yHgAAAAA5BnvpFFSwv/wB2v292YQAAABABnxl0Qr8A9ahvZdV/AdfAAAAADwGfG2pCvwD+eaILUeXSbwAAABJBmwBJqEFsmUwIZ//+nhAABH0AAAAMQZ8+RRUsL/8AALKAAAAAEAGfXXRCvwD1qG9l1X8B18AAAAAPAZ9fakK/AP55ogtR5dJvAAAAGUGbQUmoQWyZTAhv//6nhAE1+OmP8Pq22UMAAAAbQZtiSeEKUmUwIb/+p4QCQdE/1K4DAP793HHBAAAAGUGbhknhDomUwIZ//p4QCKec33hEW03FQ1IAAAAQQZ+kRRE8L/8BFs/ZuCAx8QAAAA8Bn8N0Qr8BiXk3nnFoz4EAAAAPAZ/FakK/AX8lpUigSqIvAAAAGkGbyUuoQhBaJEYIKAfyAf2HgCFf/jhAABFxAAAAJ0Gf50URLCv/Aq9j7UHE3arDSSblqoYOfGGx3FrWEzFMAiH4SN6ZgAAAACMBnghqQr8Cr2PtQcTdqsNJJuWqhg6D9pJPCtB+lsAgtLh+gAAADBhtb292AAAAbG12aGQAAAAAAAAAAAAAAAAAAAPoAAAfkAABAAABAAAAAAAAAAAAAAAAAQAAAAAAAAAAAAAAAAAAAAEAAAAAAAAAAAAAAAAAAEAAAAAAAAAAAAAAAAAAAAAAAAAAAAAAAAAAAAAAAAACAAALQnRyYWsAAABcdGtoZAAAAAMAAAAAAAAAAAAAAAEAAAAAAAAfkAAAAAAAAAAAAAAAAAAAAAAAAQAAAAAAAAAAAAAAAAAAAAEAAAAAAAAAAAAAAAAAAEAAAAABEAAAARAAAAAAACRlZHRzAAAAHGVsc3QAAAAAAAAAAQAAH5AAAAQAAAEAAAAACrptZGlhAAAAIG1kaGQAAAAAAAAAAAAAAAAAADIAAAGUAFXEAAAAAAAtaGRscgAAAAAAAAAAdmlkZQAAAAAAAAAAAAAAAFZpZGVvSGFuZGxlcgAAAAplbWluZgAAABR2bWhkAAAAAQAAAAAAAAAAAAAAJGRpbmYAAAAcZHJlZgAAAAAAAAABAAAADHVybCAAAAABAAAKJXN0YmwAAACVc3RzZAAAAAAAAAABAAAAhWF2YzEAAAAAAAAAAQAAAAAAAAAAAAAAAAAAAAABEAEQAEgAAABIAAAAAAAAAAEAAAAAAAAAAAAAAAAAAAAAAAAAAAAAAAAAAAAAAAAAAAAY//8AAAAvYXZjQwH0AA3/4QAXZ/QADZGbKCIR0IAAAAMAgAAAGQeKFMsBAAVo6+PESAAAABhzdHRzAAAAAAAAAAEAAADKAAACAAAAABRzdHNzAAAAAAAAAAEAAAABAAAF8GN0dHMAAAAAAAAAvAAAAAQAAAQAAAAAAQAABgAAAAABAAACAAAAAAIAAAQAAAAAAQAACgAAAAABAAAEAAAAAAEAAAAAAAAAAQAAAgAAAAABAAAKAAAAAAEAAAQAAAAAAQAAAAAAAAABAAACAAAAAAEAAAoAAAAAAQAABAAAAAABAAAAAAAAAAEAAAIAAAAAAQAACgAAAAABAAAEAAAAAAEAAAAAAAAAAQAAAgAAAAABAAAKAAAAAAEAAAQAAAAAAQAAAAAAAAABAAACAAAAAAEAAAoAAAAAAQAABAAAAAABAAAAAAAAAAEAAAIAAAAAAgAABAAAAAABAAAKAAAAAAEAAAQAAAAAAQAAAAAAAAABAAACAAAAAAEAAAoAAAAAAQAABAAAAAABAAAAAAAAAAEAAAIAAAAAAQAACgAAAAABAAAEAAAAAAEAAAAAAAAAAQAAAgAAAAABAAAKAAAAAAEAAAQAAAAAAQAAAAAAAAABAAACAAAAAAEAAAoAAAAAAQAABAAAAAABAAAAAAAAAAEAAAIAAAAAAQAACgAAAAABAAAEAAAAAAEAAAAAAAAAAQAAAgAAAAABAAAKAAAAAAEAAAQAAAAAAQAAAAAAAAABAAACAAAAAAEAAAoAAAAAAQAABAAAAAABAAAAAAAAAAEAAAIAAAAAAQAACgAAAAABAAAEAAAAAAEAAAAAAAAAAQAAAgAAAAABAAAEAAAAAAEAAAoAAAAAAQAABAAAAAABAAAAAAAAAAEAAAIAAAAAAQAACgAAAAABAAAEAAAAAAEAAAAAAAAAAQAAAgAAAAACAAAEAAAAAAEAAAYAAAAAAQAAAgAAAAABAAAKAAAAAAEAAAQAAAAAAQAAAAAAAAABAAACAAAAAAEAAAoAAAAAAQAABAAAAAABAAAAAAAAAAEAAAIAAAAAAQAACgAAAAABAAAEAAAAAAEAAAAAAAAAAQAAAgAAAAABAAAKAAAAAAEAAAQAAAAAAQAAAAAAAAABAAACAAAAAAEAAAoAAAAAAQAABAAAAAABAAAAAAAAAAEAAAIAAAAAAQAACgAAAAABAAAEAAAAAAEAAAAAAAAAAQAAAgAAAAABAAAIAAAAAAIAAAIAAAAAAQAACgAAAAABAAAEAAAAAAEAAAAAAAAAAQAAAgAAAAABAAAKAAAAAAEAAAQAAAAAAQAAAAAAAAABAAACAAAAAAEAAAoAAAAAAQAABAAAAAABAAAAAAAAAAEAAAIAAAAAAQAACAAAAAACAAACAAAAAAEAAAQAAAAAAQAACAAAAAACAAACAAAAAAEAAAoAAAAAAQAABAAAAAABAAAAAAAAAAEAAAIAAAAAAQAACgAAAAABAAAEAAAAAAEAAAAAAAAAAQAAAgAAAAABAAAKAAAAAAEAAAQAAAAAAQAAAAAAAAABAAACAAAAAAEAAAoAAAAAAQAABAAAAAABAAAAAAAAAAEAAAIAAAAAAQAACgAAAAABAAAEAAAAAAEAAAAAAAAAAQAAAgAAAAABAAAIAAAAAAIAAAIAAAAAAgAABAAAAAABAAAKAAAAAAEAAAQAAAAAAQAAAAAAAAABAAACAAAAAAEAAAoAAAAAAQAABAAAAAABAAAAAAAAAAEAAAIAAAAAAQAACgAAAAABAAAEAAAAAAEAAAAAAAAAAQAAAgAAAAABAAAKAAAAAAEAAAQAAAAAAQAAAAAAAAABAAACAAAAAAEAAAoAAAAAAQAABAAAAAABAAAAAAAAAAEAAAIAAAAAAQAACgAAAAABAAAEAAAAAAEAAAAAAAAAAQAAAgAAAAABAAAKAAAAAAEAAAQAAAAAAQAAAAAAAAABAAACAAAAAAEAAAgAAAAAAgAAAgAAAAABAAAKAAAAAAEAAAQAAAAAAQAAAAAAAAABAAACAAAAAAEAAAoAAAAAAQAABAAAAAABAAAAAAAAAAEAAAIAAAAAAgAABAAAAAABAAAKAAAAAAEAAAQAAAAAAQAAAAAAAAABAAACAAAAAAEAAAgAAAAAAgAAAgAAAAAcc3RzYwAAAAAAAAABAAAAAQAAAMoAAAABAAADPHN0c3oAAAAAAAAAAAAAAMoAAAW7AAAAFwAAABsAAAAbAAAAIgAAABQAAAAdAAAAHQAAABYAAAAQAAAAEwAAABMAAAAXAAAAEAAAABMAAAATAAAAFwAAABAAAAATAAAAEwAAABcAAAAQAAAAEwAAABMAAAAWAAAAEAAAABMAAAATAAAAFgAAABAAAAATAAAAEwAAAB4AAAAdAAAALAAAABQAAAATAAAAEwAAABsAAAASAAAAFAAAABMAAAAXAAAAEAAAABQAAAATAAAAFwAAABAAAAAUAAAAEwAAABcAAAAQAAAAFAAAABMAAAAXAAAAEAAAABQAAAATAAAAFwAAABAAAAAUAAAAEwAAABcAAAAQAAAAFAAAABMAAAAgAAAAFAAAABMAAAATAAAAIAAAABoAAAASAAAAFAAAABQAAAAWAAAAEAAAABQAAAAUAAAAHgAAAB4AAAAfAAAAFAAAABYAAAAQAAAAFAAAABQAAAAXAAAAEAAAABQAAAAUAAAAFwAAABAAAAAUAAAAFAAAABcAAAAQAAAAFAAAABQAAAAXAAAAEAAAABQAAAAUAAAAFwAAABAAAAAUAAAAFAAAAB4AAAAWAAAAFAAAABcAAAAUAAAAFAAAABQAAAAXAAAAFAAAABQAAAAUAAAAFgAAABQAAAAUAAAAFAAAAB0AAAATAAAAEwAAAB4AAAAbAAAAFgAAABQAAAAnAAAAFQAAABMAAAATAAAAFwAAABAAAAATAAAAEwAAABcAAAAQAAAAEwAAABMAAAAXAAAAEAAAABMAAAATAAAAFgAAABAAAAATAAAAEwAAAB8AAAAVAAAAEgAAACAAAAAcAAAAFgAAABAAAAAUAAAAEwAAABcAAAAQAAAAFAAAABQAAAAgAAAAFAAAABMAAAAUAAAAFwAAABAAAAATAAAAEwAAABcAAAAQAAAAEwAAABMAAAAXAAAAEAAAABMAAAATAAAAFwAAABAAAAATAAAAEwAAAB4AAAATAAAAEQAAABsAAAASAAAAFAAAABMAAAAWAAAAEAAAABQAAAATAAAAHQAAAB8AAAAdAAAAFAAAABMAAAATAAAAHgAAACsAAAAnAAAAFHN0Y28AAAAAAAAAAQAAADAAAABidWR0YQAAAFptZXRhAAAAAAAAACFoZGxyAAAAAAAAAABtZGlyYXBwbAAAAAAAAAAAAAAAAC1pbHN0AAAAJal0b28AAAAdZGF0YQAAAAEAAAAATGF2ZjU3LjgzLjEwMA==\" type=\"video/mp4\" />\n",
       "             </video>"
      ],
      "text/plain": [
       "<IPython.core.display.HTML object>"
      ]
     },
     "execution_count": 24,
     "metadata": {
      "tags": []
     },
     "output_type": "execute_result"
    }
   ],
   "source": [
    "env = Environment(grid_size=size, max_time=T, temperature=0.3)\n",
    "agent = DQN_CNN(size, lr=.1, epsilon = 0.1, memory_size=2000, batch_size = 32)\n",
    "train(agent,env,epochs_train,prefix='cnn_train')\n",
    "HTML(display_videos('cnn_train10.mp4'))"
   ]
  },
  {
   "cell_type": "markdown",
   "metadata": {
    "colab_type": "text",
    "id": "SwUnEr0_JmlR"
   },
   "source": [
    "***\n",
    "***\n",
    "__Question 9__ Test both algorithms and compare their performances. Which issue(s) do you observe? Observe also different behaviors by changing the temperature."
   ]
  },
  {
   "cell_type": "code",
   "execution_count": 0,
   "metadata": {
    "colab": {},
    "colab_type": "code",
    "id": "iyfsO8THJmlW"
   },
   "outputs": [],
   "source": [
    "env = Environment(grid_size=size, max_time=T,temperature=0.3)\n",
    "agent_cnn = DQN_CNN(size, lr=.1, epsilon = 0.1, memory_size=2000, batch_size = 32)\n",
    "agent_cnn.load(name_weights='cnn_trainmodel.h5',name_model='cnn_trainmodel.json')\n",
    "\n",
    "agent_fc = DQN_FC(size, lr=.1, epsilon = 0.1, memory_size=2000, batch_size = 32)\n",
    "agent_cnn.load(name_weights='fc_trainmodel.h5',name_model='fc_trainmodel.json')\n"
   ]
  },
  {
   "cell_type": "code",
   "execution_count": 34,
   "metadata": {
    "colab": {
     "base_uri": "https://localhost:8080/",
     "height": 503
    },
    "colab_type": "code",
    "id": "HY2BxiFnTUt1",
    "outputId": "2f264ce4-5b83-4006-a281-8970b39c32c6"
   },
   "outputs": [
    {
     "name": "stdout",
     "output_type": "stream",
     "text": [
      "Test of the CNN\n",
      "Win/lose count 2.0/0. Average score (2.0)\n",
      "Win/lose count 2.0/0. Average score (2.0)\n",
      "Win/lose count 3.5/0. Average score (2.5)\n",
      "Win/lose count 3.0/0. Average score (2.625)\n",
      "Win/lose count 4.5/1.0. Average score (2.8)\n",
      "Win/lose count 2.0/1.0. Average score (2.5)\n",
      "Win/lose count 1.0/0. Average score (2.2857142857142856)\n",
      "Win/lose count 1.0/1.0. Average score (2.0)\n",
      "Win/lose count 2.0/1.0. Average score (1.8888888888888888)\n",
      "Win/lose count 1.5/1.0. Average score (1.75)\n",
      "Final score: 1.75\n"
     ]
    },
    {
     "data": {
      "text/html": [
       "<video alt=\"test\" controls>\n",
       "                <source src=\"data:video/mp4;base64,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\" type=\"video/mp4\" />\n",
       "             </video>"
      ],
      "text/plain": [
       "<IPython.core.display.HTML object>"
      ]
     },
     "execution_count": 34,
     "metadata": {
      "tags": []
     },
     "output_type": "execute_result"
    }
   ],
   "source": [
    "print('Test of the CNN')\n",
    "test(agent_cnn,env,epochs_test,prefix='cnn_test')\n",
    "HTML(display_videos('cnn_test0.mp4'))"
   ]
  },
  {
   "cell_type": "code",
   "execution_count": 32,
   "metadata": {
    "colab": {
     "base_uri": "https://localhost:8080/",
     "height": 503
    },
    "colab_type": "code",
    "id": "qmjM1ANATJNU",
    "outputId": "a58a1565-cae9-4d9d-8c48-5457083e90f2"
   },
   "outputs": [
    {
     "name": "stdout",
     "output_type": "stream",
     "text": [
      "Test of the FC\n",
      "Win/lose count 0/1.0. Average score (-1.0)\n",
      "Win/lose count 0/0. Average score (-0.5)\n",
      "Win/lose count 0/2.0. Average score (-1.0)\n",
      "Win/lose count 0/1.0. Average score (-1.0)\n",
      "Win/lose count 0/3.0. Average score (-1.4)\n",
      "Win/lose count 2.0/2.0. Average score (-1.1666666666666667)\n",
      "Win/lose count 0.5/0. Average score (-0.9285714285714286)\n",
      "Win/lose count 0.5/0. Average score (-0.75)\n",
      "Win/lose count 0/0. Average score (-0.6666666666666666)\n",
      "Win/lose count 2.0/0. Average score (-0.4)\n",
      "Final score: -0.4\n"
     ]
    },
    {
     "data": {
      "text/html": [
       "<video alt=\"test\" controls>\n",
       "                <source src=\"data:video/mp4;base64,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\" type=\"video/mp4\" />\n",
       "             </video>"
      ],
      "text/plain": [
       "<IPython.core.display.HTML object>"
      ]
     },
     "execution_count": 32,
     "metadata": {
      "tags": []
     },
     "output_type": "execute_result"
    }
   ],
   "source": [
    "print('Test of the FC')\n",
    "test(agent_fc,env,epochs_test,prefix='fc_test')\n",
    "HTML(display_videos('fc_test0.mp4'))"
   ]
  },
  {
   "cell_type": "markdown",
   "metadata": {
    "colab_type": "text",
    "id": "2_jkwI76VNpg"
   },
   "source": [
    "The CNN algorithm seems to perform better. However, the rat does not explore the map well for both the algorithms. It seems that the rat stays in the same place for the greatest amount of time as there is no penalty to staying in the same place (better than risking having a negative reward), and because the epsilon is fixed.\n",
    "\n",
    "Increasing the temperature seems to increase the scores probably because there are more positive rewards on the map. For the CNN, it seems that the higher the temperature, the less we see the rat staying in the same place. "
   ]
  },
  {
   "cell_type": "markdown",
   "metadata": {
    "colab_type": "text",
    "id": "ZGCLJs1zJmlo"
   },
   "source": [
    "***\n",
    "\n",
    "The algorithm tends to not explore the map which can be an issue. We propose two ideas in order to encourage exploration:\n",
    "1. Incorporating a decreasing $\\epsilon$-greedy exploration. You can use the method ```set_epsilon```\n",
    "2. Append via the environment a new state that describes if a cell has been visited or not\n",
    "\n",
    "***\n",
    "__Question 10__ Design a new ```train_explore``` function and environment class ```EnvironmentExploring``` to tackle the issue of exploration.\n",
    "\n"
   ]
  },
  {
   "cell_type": "code",
   "execution_count": 0,
   "metadata": {
    "colab": {},
    "colab_type": "code",
    "id": "NjEFRaCAJmlq"
   },
   "outputs": [],
   "source": [
    "def train_explore(agent,env,epoch,prefix=''):\n",
    "    # Number of won games\n",
    "    score = 0\n",
    "    loss = 0\n",
    "\n",
    "    for e in range(epoch):\n",
    "        # At each epoch, we restart to a fresh game and get the initial state\n",
    "        state = env.reset()\n",
    "        # This assumes that the games will terminate\n",
    "        game_over = False\n",
    "\n",
    "        win = 0\n",
    "        lose = 0\n",
    "\n",
    "        while not game_over:\n",
    "            # The agent performs an action\n",
    "            action = agent.act(state)\n",
    "\n",
    "            # Apply an action to the environment, get the next state, the reward\n",
    "            # and if the games end\n",
    "            prev_state = state\n",
    "            state, reward, game_over = env.act(action, train=True)\n",
    "\n",
    "            # Update the counters\n",
    "            if reward > 0:\n",
    "                win = win + reward\n",
    "            if reward < 0:\n",
    "                lose = lose -reward\n",
    "\n",
    "            # Apply the reinforcement strategy\n",
    "            loss = agent.reinforce(prev_state, state,  action, reward, game_over)\n",
    "\n",
    "        # Save as a mp4\n",
    "        if e % 10 == 0:\n",
    "            env.draw(prefix+str(e))\n",
    "\n",
    "        # Update stats\n",
    "        score += win-lose\n",
    "\n",
    "        print(\"Epoch {:03d}/{:03d} | Loss {:.4f} | Win/lose count {}/{} ({})\"\n",
    "              .format(e, epoch, loss, win, lose, win-lose))\n",
    "        agent.save(name_weights=prefix+'model.h5',name_model=prefix+'model.json')\n",
    "        \n",
    "class EnvironmentExploring(object):\n",
    "    def __init__(self, grid_size=10, max_time=500, temperature=0.1):\n",
    "        grid_size = grid_size+4\n",
    "        self.grid_size = grid_size\n",
    "        self.max_time = max_time\n",
    "        self.temperature = temperature\n",
    "\n",
    "        #board on which one plays\n",
    "        self.board = np.zeros((grid_size,grid_size))\n",
    "        self.position = np.zeros((grid_size,grid_size))\n",
    "        self.malus_position = np.zeros((grid_size,grid_size))\n",
    "\n",
    "        # coordinate of the cat\n",
    "        self.x = 0\n",
    "        self.y = 1\n",
    "\n",
    "        # self time\n",
    "        self.t = 0\n",
    "\n",
    "        self.scale=16\n",
    "\n",
    "        self.to_draw = np.zeros((max_time+2, grid_size*self.scale, grid_size*self.scale, 3))\n",
    "\n",
    "\n",
    "    def draw(self,e):\n",
    "        skvideo.io.vwrite(str(e) + '.mp4', self.to_draw)\n",
    "\n",
    "    def get_frame(self,t):\n",
    "        b = np.zeros((self.grid_size,self.grid_size,3))+128\n",
    "        b[self.board>0,0] = 256\n",
    "        b[self.board < 0, 2] = 256\n",
    "        b[self.x,self.y,:]=256\n",
    "        b[-2:,:,:]=0\n",
    "        b[:,-2:,:]=0\n",
    "        b[:2,:,:]=0\n",
    "        b[:,:2,:]=0\n",
    "        \n",
    "        b =  cv2.resize(b, None, fx=self.scale, fy=self.scale, interpolation=cv2.INTER_NEAREST)\n",
    "\n",
    "        self.to_draw[t,:,:,:]=b\n",
    "\n",
    "\n",
    "    def act(self, action, train = False):\n",
    "        #This function returns the new state, reward and decides if the\n",
    "        #game ends.\n",
    "\n",
    "        self.get_frame(int(self.t))\n",
    "\n",
    "        self.position = np.zeros((self.grid_size, self.grid_size))\n",
    "\n",
    "        self.position[0:2,:]= -1\n",
    "        self.position[:,0:2] = -1\n",
    "        self.position[-2:, :] = -1\n",
    "        self.position[-2:, :] = -1\n",
    "\n",
    "        self.position[self.x, self.y] = 1\n",
    "        if action == 0:\n",
    "            if self.x == self.grid_size-3:\n",
    "                self.x = self.x-1\n",
    "            else:\n",
    "                self.x = self.x + 1\n",
    "        elif action == 1:\n",
    "            if self.x == 2:\n",
    "                self.x = self.x+1\n",
    "            else:\n",
    "                self.x = self.x-1\n",
    "        elif action == 2:\n",
    "            if self.y == self.grid_size - 3:\n",
    "                self.y = self.y - 1\n",
    "            else:\n",
    "                self.y = self.y + 1\n",
    "        elif action == 3:\n",
    "            if self.y == 2:\n",
    "                self.y = self.y + 1\n",
    "            else:\n",
    "                self.y = self.y - 1\n",
    "        else:\n",
    "            RuntimeError('Error: action not recognized')\n",
    "        reward = 0\n",
    "        if train:\n",
    "            reward = -self.malus_position[self.x, self.y]\n",
    "        self.malus_position[self.x, self.y] = 0.1\n",
    "\n",
    "        reward = reward + self.board[self.x, self.y]\n",
    "        # 3 \"feature\" states instead of 2\n",
    "        state = np.concatenate((self.malus_position.reshape(self.grid_size, self.grid_size,1),\\\n",
    "                                self.board.reshape(self.grid_size, self.grid_size,1),\\\n",
    "                        self.position.reshape(self.grid_size, self.grid_size,1)),axis=2)\n",
    "        self.t = self.t + 1\n",
    "        self.board[self.x, self.y] = 0\n",
    "        game_over = self.t > self.max_time\n",
    "        state = state[self.x-2:self.x+3,self.y-2:self.y+3,:]\n",
    "\n",
    "        return state, reward, game_over\n",
    "\n",
    "    def reset(self):\n",
    "        #This function resets the game and returns the initial state\n",
    "\n",
    "        self.x = np.random.randint(3, self.grid_size-3, size=1)[0]\n",
    "        self.y = np.random.randint(3, self.grid_size-3, size=1)[0]\n",
    "\n",
    "\n",
    "        bonus = 0.5*np.random.binomial(1,self.temperature,size=self.grid_size**2)\n",
    "        bonus = bonus.reshape(self.grid_size,self.grid_size)\n",
    "\n",
    "        malus = -1.0*np.random.binomial(1,self.temperature,size=self.grid_size**2)\n",
    "        malus = malus.reshape(self.grid_size, self.grid_size)\n",
    "\n",
    "        self.to_draw = np.zeros((self.max_time+2, self.grid_size*self.scale, self.grid_size*self.scale, 3))\n",
    "\n",
    "\n",
    "        malus[bonus>0]=0\n",
    "\n",
    "        self.board = bonus + malus\n",
    "\n",
    "        self.position = np.zeros((self.grid_size, self.grid_size))\n",
    "        self.position[0:2,:]= -1\n",
    "        self.position[:,0:2] = -1\n",
    "        self.position[-2:, :] = -1\n",
    "        self.position[-2:, :] = -1\n",
    "        self.board[self.x,self.y] = 0\n",
    "        self.malus_position[self.x, self.y] = 0.1\n",
    "        self.t = 0\n",
    "        \n",
    "        state = np.concatenate((self.malus_position.reshape(self.grid_size, self.grid_size,1),\\\n",
    "                                self.board.reshape(self.grid_size, self.grid_size,1),\\\n",
    "                        self.position.reshape(self.grid_size, self.grid_size,1)),axis=2)\n",
    "        \n",
    "        state = state[self.x - 2:self.x + 3, self.y - 2:self.y + 3, :]\n",
    "        return state"
   ]
  },
  {
   "cell_type": "code",
   "execution_count": 37,
   "metadata": {
    "colab": {
     "base_uri": "https://localhost:8080/",
     "height": 522
    },
    "colab_type": "code",
    "id": "8yNFNj5pJmlx",
    "outputId": "237e2cec-c7bb-4361-e592-52cb12aa2cfb"
   },
   "outputs": [
    {
     "name": "stdout",
     "output_type": "stream",
     "text": [
      "Epoch 000/020 | Loss 0.0188 | Win/lose count 10.0/30.500000000000124 (-20.500000000000124)\n",
      "Epoch 001/020 | Loss 0.0259 | Win/lose count 9.4/26.700000000000088 (-17.30000000000009)\n",
      "Epoch 002/020 | Loss 0.0166 | Win/lose count 10.100000000000003/28.800000000000065 (-18.70000000000006)\n",
      "Epoch 003/020 | Loss 0.0104 | Win/lose count 13.400000000000006/28.000000000000057 (-14.600000000000051)\n",
      "Epoch 004/020 | Loss 0.0080 | Win/lose count 7.700000000000002/30.00000000000012 (-22.300000000000118)\n",
      "Epoch 005/020 | Loss 0.0098 | Win/lose count 10.400000000000004/27.500000000000096 (-17.100000000000094)\n",
      "Epoch 006/020 | Loss 0.0181 | Win/lose count 5.700000000000001/29.400000000000123 (-23.700000000000124)\n",
      "Epoch 007/020 | Loss 0.0042 | Win/lose count 12.000000000000005/33.00000000000011 (-21.0000000000001)\n",
      "Epoch 008/020 | Loss 0.0188 | Win/lose count 6.400000000000001/28.500000000000114 (-22.10000000000011)\n",
      "Epoch 009/020 | Loss 0.0280 | Win/lose count 5.6000000000000005/32.70000000000013 (-27.10000000000013)\n",
      "Epoch 010/020 | Loss 0.0218 | Win/lose count 8.400000000000002/23.000000000000053 (-14.600000000000051)\n",
      "Epoch 011/020 | Loss 0.0228 | Win/lose count 10.000000000000004/26.600000000000097 (-16.600000000000094)\n",
      "Epoch 012/020 | Loss 0.0142 | Win/lose count 8.800000000000002/31.900000000000066 (-23.100000000000065)\n",
      "Epoch 013/020 | Loss 0.0211 | Win/lose count 6.000000000000001/34.60000000000015 (-28.60000000000015)\n",
      "Epoch 014/020 | Loss 0.0095 | Win/lose count 6.000000000000001/31.400000000000148 (-25.400000000000148)\n",
      "Epoch 015/020 | Loss 0.0114 | Win/lose count 9.300000000000004/26.500000000000092 (-17.200000000000088)\n",
      "Epoch 016/020 | Loss 0.0251 | Win/lose count 10.800000000000004/28.4000000000001 (-17.600000000000097)\n",
      "Epoch 017/020 | Loss 0.0242 | Win/lose count 8.800000000000002/33.90000000000012 (-25.100000000000115)\n",
      "Epoch 018/020 | Loss 0.0116 | Win/lose count 10.000000000000004/34.60000000000011 (-24.600000000000104)\n",
      "Epoch 019/020 | Loss 0.0120 | Win/lose count 5.2/25.800000000000104 (-20.600000000000104)\n"
     ]
    },
    {
     "data": {
      "text/html": [
       "<video alt=\"test\" controls>\n",
       "                <source src=\"data:video/mp4;base64,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\" type=\"video/mp4\" />\n",
       "             </video>"
      ],
      "text/plain": [
       "<IPython.core.display.HTML object>"
      ]
     },
     "execution_count": 37,
     "metadata": {
      "tags": []
     },
     "output_type": "execute_result"
    }
   ],
   "source": [
    "# Training\n",
    "env = EnvironmentExploring(grid_size=size, max_time=T, temperature=0.3)\n",
    "agent = DQN_CNN(size, lr=.1, epsilon = 0.9, memory_size=2000, batch_size = 32,n_state=3)\n",
    "train_explore(agent, env, 20, prefix='cnn_train_explore')\n",
    "HTML(display_videos('cnn_train_explore0.mp4'))"
   ]
  },
  {
   "cell_type": "markdown",
   "metadata": {
    "colab_type": "text",
    "id": "JYoCi11JcGee"
   },
   "source": [
    "\n",
    "The score is negative because we prefere exploration to exploitation in the training phase."
   ]
  },
  {
   "cell_type": "code",
   "execution_count": 38,
   "metadata": {
    "colab": {
     "base_uri": "https://localhost:8080/",
     "height": 486
    },
    "colab_type": "code",
    "id": "uwZyFVecJml2",
    "outputId": "bb4802c0-6a37-437f-8f6c-4a57149ca579"
   },
   "outputs": [
    {
     "name": "stdout",
     "output_type": "stream",
     "text": [
      "Win/lose count 2.0/0. Average score (2.0)\n",
      "Win/lose count 3.5/0. Average score (2.75)\n",
      "Win/lose count 1.5/0. Average score (2.3333333333333335)\n",
      "Win/lose count 6.0/0. Average score (3.25)\n",
      "Win/lose count 6.5/0. Average score (3.9)\n",
      "Win/lose count 4.5/0. Average score (4.0)\n",
      "Win/lose count 4.5/0. Average score (4.071428571428571)\n",
      "Win/lose count 7.0/0. Average score (4.4375)\n",
      "Win/lose count 7.0/0. Average score (4.722222222222222)\n",
      "Win/lose count 3.5/0. Average score (4.6)\n",
      "Final score: 4.6\n"
     ]
    },
    {
     "data": {
      "text/html": [
       "<video alt=\"test\" controls>\n",
       "                <source src=\"data:video/mp4;base64,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\" type=\"video/mp4\" />\n",
       "             </video>"
      ],
      "text/plain": [
       "<IPython.core.display.HTML object>"
      ]
     },
     "execution_count": 38,
     "metadata": {
      "tags": []
     },
     "output_type": "execute_result"
    }
   ],
   "source": [
    "# Evaluation\n",
    "test(agent,env,epochs_test,prefix='cnn_test_explore')\n",
    "HTML(display_videos('cnn_test_explore0.mp4'))"
   ]
  },
  {
   "cell_type": "markdown",
   "metadata": {
    "colab_type": "text",
    "id": "3cbRXsBWJml9"
   },
   "source": [
    "***"
   ]
  }
 ],
 "metadata": {
  "accelerator": "GPU",
  "colab": {
   "collapsed_sections": [],
   "name": "DQN_project_MVA.ipynb",
   "provenance": [],
   "version": "0.3.2"
  },
  "kernelspec": {
   "display_name": "Python 3",
   "language": "python",
   "name": "python3"
  },
  "language_info": {
   "codemirror_mode": {
    "name": "ipython",
    "version": 3
   },
   "file_extension": ".py",
   "mimetype": "text/x-python",
   "name": "python",
   "nbconvert_exporter": "python",
   "pygments_lexer": "ipython3",
   "version": "3.6.5"
  }
 },
 "nbformat": 4,
 "nbformat_minor": 1
}
