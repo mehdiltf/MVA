{
 "cells": [
  {
   "cell_type": "markdown",
   "metadata": {},
   "source": [
    "# Deep Learning for NLP - Project"
   ]
  },
  {
   "cell_type": "markdown",
   "metadata": {},
   "source": [
    "RULES:\n",
    "\n",
    "* Do not create any additional cell\n",
    "\n",
    "* Fill in the blanks\n",
    "\n",
    "* All cells should be runnable (modulo trivial compatibility bugs that we'd fix)\n",
    "\n",
    "* 4 / 20 points will be allocated to the clarity of your code\n",
    "\n",
    "* Efficient code will have a bonus\n",
    "\n",
    "DELIVERABLE:\n",
    "\n",
    "* this notebook\n",
    "* the predictions of the SST test set\n",
    "\n",
    "DO NOT INCLUDE THE DATASETS IN THE DELIVERABLE.."
   ]
  },
  {
   "cell_type": "code",
   "execution_count": 14,
   "metadata": {},
   "outputs": [],
   "source": [
    "import io\n",
    "import os\n",
    "import numpy as np\n",
    "import scipy"
   ]
  },
  {
   "cell_type": "code",
   "execution_count": 15,
   "metadata": {},
   "outputs": [],
   "source": [
    "PATH_TO_DATA = r\"C:\\Users\\dell\\Desktop\\MVA\\deeplearning\\MP2\\nlp_project\\data\""
   ]
  },
  {
   "cell_type": "markdown",
   "metadata": {},
   "source": [
    "# 1) Monolingual (English) word embeddings "
   ]
  },
  {
   "cell_type": "code",
   "execution_count": 16,
   "metadata": {},
   "outputs": [],
   "source": [
    "class Word2vec():\n",
    "    def __init__(self, fname, nmax=100000):\n",
    "        self.load_wordvec(fname, nmax)\n",
    "        self.word2id = dict.fromkeys(self.word2vec.keys())\n",
    "        self.id2word = {v: k for k, v in self.word2id.items()}\n",
    "        self.embeddings = np.array(self.word2vec.values())\n",
    "    \n",
    "    def load_wordvec(self, fname, nmax):\n",
    "        self.word2vec = {}\n",
    "        with io.open(fname, encoding='utf-8') as f:\n",
    "            next(f) #skip the header\n",
    "            for i, line in enumerate(f):#enumerate over lines of the file + counter : i\n",
    "                word, vec = line.split(' ', 1)  # list of two elements the first is assigned to word and the second to vec\n",
    "                self.word2vec[word] = np.fromstring(vec, sep=' ')\n",
    "                if i == (nmax - 1):\n",
    "                    break\n",
    "        print('Loaded %s pretrained word vectors' % (len(self.word2vec)))\n",
    "\n",
    "    def most_similar(self, w, K=5):\n",
    "        # K most similar words: self.score  -  np.argsort \n",
    "        scores=[]\n",
    "        indexes_retained=[]\n",
    "        for key in self.word2vec:\n",
    "            if key==w:\n",
    "                scores.append(0)\n",
    "            else:\n",
    "                scores.append(self.score(w,key))\n",
    "        indexes_retained=np.argsort(scores)[-1*K:]     #find the index of the 5 biggest elements of scores\n",
    "        s=1\n",
    "        for i in indexes_retained[::-1]:\n",
    "            print('rank',s,[*self.word2vec][i])\n",
    "            s+=1\n",
    "            \n",
    "    def score(self, w1, w2):\n",
    "        # cosine similarity: np.dot  -  np.linalg.norm\n",
    "        return np.dot(self.word2vec[w1],self.word2vec[w2])/(np.linalg.norm(self.word2vec[w1])*np.linalg.norm(self.word2vec[w2]))\n"
   ]
  },
  {
   "cell_type": "code",
   "execution_count": 17,
   "metadata": {},
   "outputs": [
    {
     "name": "stdout",
     "output_type": "stream",
     "text": [
      "Loaded 150000 pretrained word vectors\n",
      "cat dog 0.671683666279249\n",
      "dog pet 0.6842064029669219\n",
      "dogs cats 0.7074389328052404\n",
      "paris france 0.7775108541288563\n",
      "germany berlin 0.7420295235998394\n",
      "rank 1 cats\n",
      "rank 2 kitty\n",
      "rank 3 kitten\n",
      "rank 4 feline\n",
      "rank 5 kitties\n",
      "None \n",
      "\n",
      "rank 1 dogs\n",
      "rank 2 puppy\n",
      "rank 3 Dog\n",
      "rank 4 doggie\n",
      "rank 5 canine\n",
      "None \n",
      "\n",
      "rank 1 dog\n",
      "rank 2 pooches\n",
      "rank 3 Dogs\n",
      "rank 4 doggies\n",
      "rank 5 canines\n",
      "None \n",
      "\n",
      "rank 1 france\n",
      "rank 2 Paris\n",
      "rank 3 parisian\n",
      "rank 4 london\n",
      "rank 5 berlin\n",
      "None \n",
      "\n",
      "rank 1 austria\n",
      "rank 2 europe\n",
      "rank 3 german\n",
      "rank 4 berlin\n",
      "rank 5 poland\n",
      "None \n",
      "\n"
     ]
    }
   ],
   "source": [
    "w2v = Word2vec(os.path.join(PATH_TO_DATA, 'crawl-300d-200k.vec'), nmax=150000)\n",
    "\n",
    "# You will be evaluated on the output of the following:\n",
    "for w1, w2 in zip(('cat', 'dog', 'dogs', 'paris', 'germany'), ('dog', 'pet', 'cats', 'france', 'berlin')):\n",
    "    print(w1, w2, w2v.score(w1, w2))\n",
    "for w1 in ['cat', 'dog', 'dogs', 'paris', 'germany']:\n",
    "    print(w2v.most_similar(w1),'\\n')"
   ]
  },
  {
   "cell_type": "code",
   "execution_count": 18,
   "metadata": {},
   "outputs": [],
   "source": [
    "class BoV():\n",
    "    def __init__(self, w2v):\n",
    "        self.w2v = w2v\n",
    "    \n",
    "    \n",
    "        \n",
    "    def encode(self, sentences, idf=False):\n",
    "        # takes a list of sentences, outputs a numpy array of sentence embeddings\n",
    "        # see TP1 for help\n",
    "        sentemb = []\n",
    "        keys = list(self.w2v.word2vec.keys())\n",
    "        for sent in sentences:\n",
    "            if idf is False:\n",
    "                # mean of word vectors\n",
    "                \n",
    "                sentemb.append(np.mean([self.w2v.word2vec[w] for w in sent if w in keys],\n",
    "                                       axis=0))\n",
    "                #assert False, 'TODO: fill in the blank'\n",
    "            else:\n",
    "                # idf-weighted mean of word vectors\n",
    "                \n",
    "                vec = np.sum([idf1[w]*self.w2v.word2vec[w] for w in sent if w in keys],\n",
    "                             axis=0)/np.sum([idf1[w] for w in sent if w in keys])\n",
    "                sentemb.append(vec)\n",
    "                #assert False, 'TODO: fill in the blank'\n",
    "        return np.vstack(sentemb)\n",
    "   \n",
    "    \n",
    "    def most_similar(self, s,sentences,idf=False, K=5):\n",
    "        # get most similar sentences and **print** them\n",
    "        scores=[]\n",
    "        indexes_retained=[]\n",
    "        for sent in sentences:\n",
    "            if sent==s:\n",
    "                scores.append(0)\n",
    "            else:\n",
    "                scores.append(self.score(s,sent,idf))\n",
    "        indexes_retained=np.argsort(scores)[-1*K:]     #find the index of the 5 biggest elements of scores\n",
    "        s=1\n",
    "        for i in indexes_retained[::-1]:\n",
    "            print('rank',s,sentences[i])\n",
    "            s+=1\n",
    "\n",
    "    def score(self, s1, s2, idf=False):\n",
    "        # cosine similarity: use   np.dot  and  np.linalg.norm\n",
    "        enc1=self.encode([s1],idf)\n",
    "        enc2=self.encode([s2],idf)\n",
    "        return (np.dot(enc1,enc2.T)/(np.linalg.norm(enc1)*np.linalg.norm(enc2)))[0][0]\n",
    "    \n",
    "    def build_idf(self, sentences):\n",
    "        # build the idf dictionary: associate each word to its idf value\n",
    "        idf = {}\n",
    "        for sent in sentences:\n",
    "            for w in set(sent):\n",
    "                idf[w] = idf.get(w, 0) + 1\n",
    "        \n",
    "        for word in idf:\n",
    "            idf[word]= max(1,np.log10(len(sentences) / (idf[word])))\n",
    "        return idf\n",
    "    "
   ]
  },
  {
   "cell_type": "code",
   "execution_count": 19,
   "metadata": {},
   "outputs": [
    {
     "name": "stdout",
     "output_type": "stream",
     "text": [
      "Found 150736 sentences\n",
      "0.5726258859719605\n",
      "0.012930870056152344\n"
     ]
    }
   ],
   "source": [
    "#w2v = Word2vec(os.path.join(PATH_TO_DATA, 'crawl-300d-1M.vec'), nmax=500000)\n",
    "s2v = BoV(w2v)\n",
    "\n",
    "# Load sentences in \"PATH_TO_DATA/sentences.txt\"\n",
    "sentences = []\n",
    "with open('data/sentences.txt') as f:\n",
    "    for i, line in enumerate(f):\n",
    "        sent = line.rstrip().split() \n",
    "        #striping white spaces from the end of s<entences and splitting them to lists by whitespace\n",
    "        sentences.append(sent) #append list representing the sentence to the list sentences containing all sentences\n",
    "print('Found %s sentences' % len(sentences))\n",
    "\n",
    "# Build idf scores for each word\n",
    "idf1 =s2v.build_idf(sentences)\n",
    "\n",
    "# You will be evaluated on the output of the following:\n",
    "import time\n",
    "x=time.time()\n",
    "print(s2v.score('' if not sentences else sentences[7], '' if not sentences else sentences[13]))\n",
    "y=(time.time()-x)\n",
    "print(y)"
   ]
  },
  {
   "cell_type": "code",
   "execution_count": 20,
   "metadata": {},
   "outputs": [
    {
     "data": {
      "text/plain": [
       "1949.1476287841797"
      ]
     },
     "execution_count": 20,
     "metadata": {},
     "output_type": "execute_result"
    }
   ],
   "source": [
    "y*len(sentences)"
   ]
  },
  {
   "cell_type": "code",
   "execution_count": 21,
   "metadata": {},
   "outputs": [
    {
     "name": "stdout",
     "output_type": "stream",
     "text": [
      "rank 1 ['an', 'african', 'american', 'man', 'smiling', '.']\n",
      "rank 2 ['a', 'little', 'african', 'american', 'boy', 'and', 'girl', 'looking', 'up', '.']\n",
      "rank 3 ['an', 'afican', 'american', 'woman', 'standing', 'behind', 'two', 'small', 'african', 'american', 'children', '.']\n",
      "rank 4 ['an', 'african', 'american', 'man', 'is', 'sitting', '.']\n",
      "rank 5 ['a', 'girl', 'in', 'black', 'hat', 'holding', 'an', 'african', 'american', 'baby', '.']\n"
     ]
    }
   ],
   "source": [
    "s2v.most_similar('' if not sentences else sentences[10], sentences)  # BoV-mean"
   ]
  },
  {
   "cell_type": "code",
   "execution_count": 22,
   "metadata": {},
   "outputs": [
    {
     "data": {
      "text/plain": [
       "0.47514508753687823"
      ]
     },
     "execution_count": 22,
     "metadata": {},
     "output_type": "execute_result"
    }
   ],
   "source": [
    "s2v.score('' if not sentences else sentences[7], '' if not sentences else sentences[13], idf=True)\n"
   ]
  },
  {
   "cell_type": "code",
   "execution_count": 23,
   "metadata": {},
   "outputs": [
    {
     "name": "stdout",
     "output_type": "stream",
     "text": [
      "rank 1 ['an', 'african', 'american', 'man', 'smiling', '.']\n",
      "rank 2 ['an', 'african', 'american', 'man', 'is', 'sitting', '.']\n",
      "rank 3 ['a', 'little', 'african', 'american', 'boy', 'and', 'girl', 'looking', 'up', '.']\n",
      "rank 4 ['an', 'afican', 'american', 'woman', 'standing', 'behind', 'two', 'small', 'african', 'american', 'children', '.']\n",
      "rank 5 ['a', 'girl', 'in', 'black', 'hat', 'holding', 'an', 'african', 'american', 'baby', '.']\n"
     ]
    }
   ],
   "source": [
    "s2v.most_similar('' if not sentences else sentences[10], sentences, idf=True)  # BoV-idf"
   ]
  },
  {
   "cell_type": "markdown",
   "metadata": {},
   "source": [
    "# 2) Multilingual (English-French) word embeddings"
   ]
  },
  {
   "cell_type": "markdown",
   "metadata": {},
   "source": [
    "Let's consider a bilingual dictionary of size V_a (e.g French-English).\n",
    "\n",
    "Let's define **X** and **Y** the **French** and **English** matrices.\n",
    "\n",
    "They contain the embeddings associated to the words in the bilingual dictionary.\n",
    "\n",
    "We want to find a **mapping W** that will project the source word space (e.g French) to the target word space (e.g English).\n",
    "\n",
    "Procrustes : **W\\* = argmin || W.X - Y ||  s.t  W^T.W = Id**\n",
    "has a closed form solution:\n",
    "**W = U.V^T  where  U.Sig.V^T = SVD(Y.X^T)**\n",
    "\n",
    "In what follows, you are asked to: "
   ]
  },
  {
   "cell_type": "code",
   "execution_count": 3,
   "metadata": {},
   "outputs": [
    {
     "name": "stdout",
     "output_type": "stream",
     "text": [
      "Loaded 50000 english pretrained word vectors\n",
      "Loaded 50000 french pretrained word vectors\n"
     ]
    }
   ],
   "source": [
    "# 1 - Download and load 50k first vectors of\n",
    "#     https://s3-us-west-1.amazonaws.com/fasttext-vectors/wiki.en.vec\n",
    "#     https://s3-us-west-1.amazonaws.com/fasttext-vectors/wiki.fr.vec\n",
    "\n",
    "# TYPE CODE HERE\n",
    "nmax = 50000\n",
    "word2vec_eng = {}\n",
    "with io.open('./data/wiki.en.vec', encoding='utf-8') as f:\n",
    "    next(f)\n",
    "    for i, line in enumerate(f):\n",
    "        word, vec = line.split(' ', 1)\n",
    "        word2vec_eng[word] = np.fromstring(vec, sep=' ')\n",
    "        if i == (nmax - 1):\n",
    "            break\n",
    "    print('Loaded %s english pretrained word vectors' % (len(word2vec_eng)))\n",
    "    \n",
    "word2vec_fr = {}\n",
    "with io.open('./data/wiki.fr.vec', encoding='utf-8') as f:\n",
    "    next(f)\n",
    "    for i, line in enumerate(f):\n",
    "        word, vec = line.split(' ', 1)\n",
    "        word2vec_fr[word] = np.fromstring(vec, sep=' ')\n",
    "        if i == (nmax - 1):\n",
    "            break     \n",
    "    print('Loaded %s french pretrained word vectors' % (len(word2vec_fr)))    "
   ]
  },
  {
   "cell_type": "code",
   "execution_count": 4,
   "metadata": {},
   "outputs": [],
   "source": [
    "# 2 - Get words that appear in both vocabs (= identical character strings)\n",
    "#     Use it to create the matrix X and Y (of aligned embeddings for these words)\n",
    "\n",
    "# TYPE CODE HERE\n",
    "identical_words = []\n",
    "keys_eng = set(word2vec_eng.keys())\n",
    "keys_fr = set(word2vec_fr.keys())\n",
    "for word in word2vec_eng:\n",
    "    if word in word2vec_fr:\n",
    "        identical_words.append(word)\n",
    "X = []\n",
    "Y = []\n",
    "for word in identical_words:\n",
    "    X.append(word2vec_eng[word])\n",
    "    Y.append(word2vec_fr[word])\n",
    "X,Y = np.array(X),np.array(Y)"
   ]
  },
  {
   "cell_type": "code",
   "execution_count": 5,
   "metadata": {},
   "outputs": [],
   "source": [
    "# 3 - Solve the Procrustes using the scipy package and: scipy.linalg.svd() and get the optimal W\n",
    "#     Now W*French_vector is in the same space as English_vector\n",
    "\n",
    "# TYPE CODE HERE\n",
    "R = np.dot(Y,X.T)\n",
    "U, S, V = np.linalg.svd(R) \n",
    "W = np.dot(U,V)"
   ]
  },
  {
   "cell_type": "code",
   "execution_count": 13,
   "metadata": {},
   "outputs": [
    {
     "name": "stdout",
     "output_type": "stream",
     "text": [
      "the nearest english words to the french word place are ['place', 'position', 'places', 'part', 'mis']\n",
      "the nearest english words to the french word automobile are ['automobile', 'automobiles', 'moto', 'automotive', 'bugatti']\n",
      "the nearest english words to the french word population are ['population', 'populations', 'hab', '/km²', 'km²']\n",
      "the nearest english words to the french word article are ['article', 'articles', 'admissible', 'interwiki', 'page']\n"
     ]
    }
   ],
   "source": [
    "# 4 - After alignment with W, give examples of English nearest neighbors of some French words (and vice versa)\n",
    "#     You will be evaluated on that part and the code above\n",
    "\n",
    "# TYPE CODE HERE\n",
    "M = np.dot(W,X)\n",
    "\n",
    "def nearest_neighbors_eng(M,Y,french_word,identical_words,K=5):\n",
    "    scores=[]\n",
    "    i= identical_words.index(french_word)\n",
    "    vec = M[i]\n",
    "    for x in list(Y):\n",
    "        scores.append(np.dot(x,vec)/(np.linalg.norm(x)*np.linalg.norm(vec)))\n",
    "    indexes_retained=np.argsort(scores)[-1*K:]  \n",
    "    return [identical_words[i] for i in indexes_retained[::-1]]\n",
    "\n",
    "print('the nearest english words to the french word place are',nearest_neighbors_eng(M,Y,'place',identical_words))\n",
    "print('the nearest english words to the french word automobile are',nearest_neighbors_eng(M,Y,'automobile',identical_words))\n",
    "print('the nearest english words to the french word population are',nearest_neighbors_eng(M,Y,'population',identical_words))\n",
    "print('the nearest english words to the french word article are',nearest_neighbors_eng(M,Y,'article',identical_words))"
   ]
  },
  {
   "cell_type": "code",
   "execution_count": 19,
   "metadata": {},
   "outputs": [
    {
     "name": "stdout",
     "output_type": "stream",
     "text": [
      "the nearest french words to the english word place are ['place', 'position', 'places', 'billboard', 'chart']\n",
      "the nearest french words to the english word car are ['car', 'mais', 'pas', 'si', 'ne']\n",
      "the nearest french words to the english word population are ['population', 'populations', '/km²', 'km²', 'proportion']\n",
      "the nearest french words to the english word article are ['article', 'articles', 'pertinent', 'admissible', 'page']\n",
      "the nearest french words to the english word food are ['food', 'foods', 'nutrition', 'health', 'drug']\n"
     ]
    }
   ],
   "source": [
    "def nearest_neighbors_fr(M,Y,eng_word,identical_words,K=5):\n",
    "    scores=[]\n",
    "    i= identical_words.index(eng_word)\n",
    "    vec = Y[i]\n",
    "    for x in list(M):\n",
    "        scores.append(np.dot(x,vec)/(np.linalg.norm(x)*np.linalg.norm(vec)))\n",
    "    indexes_retained=np.argsort(scores)[-1*K:]  \n",
    "    return [identical_words[i] for i in indexes_retained[::-1]]\n",
    "\n",
    "print('the nearest french words to the english word place are',nearest_neighbors_fr(M,Y,'place',identical_words))\n",
    "print('the nearest french words to the english word car are',nearest_neighbors_fr(M,Y,'car',identical_words))\n",
    "print('the nearest french words to the english word population are',nearest_neighbors_fr(M,Y,'population',identical_words))\n",
    "print('the nearest french words to the english word article are',nearest_neighbors_fr(M,Y,'article',identical_words))\n",
    "print('the nearest french words to the english word food are',nearest_neighbors_fr(M,Y,'food',identical_words))"
   ]
  },
  {
   "cell_type": "markdown",
   "metadata": {},
   "source": [
    "If you want to dive deeper on this subject: https://github.com/facebookresearch/MUSE"
   ]
  },
  {
   "cell_type": "markdown",
   "metadata": {},
   "source": [
    "# 3) Sentence classification with BoV and scikit-learn"
   ]
  },
  {
   "cell_type": "code",
   "execution_count": 24,
   "metadata": {},
   "outputs": [],
   "source": [
    "# 1 - Load train/dev/test of Stanford Sentiment TreeBank (SST)\n",
    "#     (https://nlp.stanford.edu/~socherr/EMNLP2013_RNTN.pdf)\n",
    "\n",
    "# TYPE CODE HERE\n",
    "train_sentences = []\n",
    "train_labels = []\n",
    "path = './data/SST/stsa.fine.train'\n",
    "with io.open(path, encoding='utf-8') as f:\n",
    "    for line in f:\n",
    "        label, sent = line.split(' ', 1)\n",
    "        train_sentences.append(sent.rstrip().split())\n",
    "        train_labels.append(int(label))\n",
    "    \n",
    "dev_sentences = []\n",
    "dev_labels = []\n",
    "path = './data/SST/stsa.fine.dev'\n",
    "with io.open(path, encoding='utf-8') as f:\n",
    "    for line in f:\n",
    "        label, sent = line.split(' ', 1)\n",
    "        dev_sentences.append(sent.rstrip().split())\n",
    "        dev_labels.append(int(label))\n",
    "        \n",
    "test_sentences = []\n",
    "path = './data/SST/stsa.fine.test.X'\n",
    "with io.open(path, encoding='utf-8') as f:\n",
    "    for line in f:\n",
    "        test_sentences.append(line.rstrip().split())"
   ]
  },
  {
   "cell_type": "code",
   "execution_count": 26,
   "metadata": {},
   "outputs": [
    {
     "name": "stdout",
     "output_type": "stream",
     "text": [
      "Loaded 150000 pretrained word vectors\n"
     ]
    }
   ],
   "source": [
    "# 2 - Encode sentences with the BoV model above\n",
    "w2v = Word2vec(os.path.join(PATH_TO_DATA, 'crawl-300d-200k.vec'), nmax=150000)\n",
    "s2v = BoV(w2v)\n",
    "# TYPE CODE HERE\n",
    " # BoV-mean\n",
    "train_bov_mean = s2v.encode(train_sentences)\n",
    "dev_bov_mean = s2v.encode(dev_sentences)\n",
    "test_bov_mean = s2v.encode(test_sentences)\n",
    " # BoV-idf\n",
    "idf1 = s2v.build_idf(train_sentences+dev_sentences+test_sentences)\n",
    "train_bov_idf = s2v.encode(train_sentences,idf=True)\n",
    "dev_bov_idf = s2v.encode(dev_sentences,idf=True)\n",
    "test_bov_idf = s2v.encode(test_sentences,idf=True)"
   ]
  },
  {
   "cell_type": "code",
   "execution_count": 49,
   "metadata": {},
   "outputs": [
    {
     "name": "stdout",
     "output_type": "stream",
     "text": [
      "The best score on dev set when using mean BoV is :  42.87 % and is given by given by a regularization parameter C =  3\n",
      "The training score using the average of word vectors is:  48.53 %\n",
      "The best score on dev set when using weighted average is :  43.23 % and is given by given by a regularization parameter C =  1\n",
      "The training score using the weighted-average is:  47.6 %\n"
     ]
    }
   ],
   "source": [
    "# 3 - Learn Logistic Regression on top of sentence embeddings using scikit-learn\n",
    "#     (consider tuning the L2 regularization on the dev set)\n",
    "from sklearn.linear_model import LogisticRegression\n",
    "C = [0.001,0.01,0.05,0.1,0.5,1,3,10,20,30,40,50,60,70,80,90,100] # regularization strengths\n",
    "scores = []\n",
    "for c in C:\n",
    "    logReg = LogisticRegression(penalty='l2',C = c)\n",
    "    logReg.fit(train_bov_mean,train_labels)\n",
    "    score = logReg.score(dev_bov_mean,dev_labels)\n",
    "    scores.append(score)\n",
    "    \n",
    "index_best_score=np.argmax(scores)\n",
    "print('The best score on dev set when using mean BoV is : ',round(scores[index_best_score]*100,2),'% \\\n",
    "and is given by given by a regularization parameter C = ',C[index_best_score])\n",
    "\n",
    "logReg = LogisticRegression(penalty='l2',C = C[index_best_score])\n",
    "logReg.fit(train_bov_mean,train_labels)\n",
    "score = logReg.score(train_bov_mean,train_labels)\n",
    "print('The training score using the average of word vectors is: ',round(score*100,2),'%')\n",
    "\n",
    "C = [0.001,0.01,0.05,0.1,0.5,1,3,10,20,30,40,50,60,70,80,90,100] # regularization strengths\n",
    "scores = []\n",
    "for c in C:\n",
    "    logReg = LogisticRegression(penalty='l2',C = c)\n",
    "    logReg.fit(train_bov_idf,train_labels)\n",
    "    score = logReg.score(dev_bov_idf,dev_labels)\n",
    "    scores.append(score)\n",
    "    \n",
    "index_best_score=np.argmax(scores)\n",
    "print('The best score on dev set when using weighted average is : ',round(scores[index_best_score]*100,2),'% \\\n",
    "and is given by given by a regularization parameter C = ',C[index_best_score])\n",
    "\n",
    "logReg = LogisticRegression(penalty='l2',C = C[index_best_score])\n",
    "logReg.fit(train_bov_idf,train_labels)\n",
    "score = logReg.score(train_bov_idf,train_labels)\n",
    "print('The training score using the weighted-average is: ',round(score*100,2),'%')\n"
   ]
  },
  {
   "cell_type": "code",
   "execution_count": 42,
   "metadata": {},
   "outputs": [],
   "source": [
    "# 4 - Produce 2210 predictions for the test set (in the same order). One line = one prediction (=0,1,2,3,4).\n",
    "#     Attach the output file \"logreg_bov_y_test_sst.txt\" to your deliverable.\n",
    "#     You will be evaluated on the results of the test set.\n",
    "\n",
    "# TYPE CODE HERE\n",
    "path = './logreg_bov_y_test_sst.txt'\n",
    "output_file = open(path, 'w')\n",
    "logReg = LogisticRegression(penalty='l2',C = 3)\n",
    "logReg.fit(train_bov_mean,train_labels)\n",
    "predictions = logReg.predict(test_bov_mean)\n",
    "for i in range(len(predictions)):\n",
    "    output_file.write(\"%s\\n\" % predictions[i])\n",
    "output_file.close()"
   ]
  },
  {
   "cell_type": "code",
   "execution_count": 43,
   "metadata": {},
   "outputs": [
    {
     "name": "stdout",
     "output_type": "stream",
     "text": [
      "0.3669241573033708\n",
      "0.35603996366939145\n"
     ]
    }
   ],
   "source": [
    "# BONUS!\n",
    "# 5 - Try to improve performance with another classifier\n",
    "#     Attach the output file \"XXX_bov_y_test_sst.txt\" to your deliverable (where XXX = the name of the classifier)\n",
    "from numpy.core.umath_tests import inner1d\n",
    "# TYPE CODE HERE\n",
    "from sklearn.ensemble import RandomForestClassifier\n",
    "path = './RFC_bov_y_test_sst.txt'\n",
    "output_file = open(path, 'w')\n",
    "rfc=RandomForestClassifier(max_depth=3, n_estimators=10)\n",
    "rfc.fit(train_bov_mean,train_labels)\n",
    "predictions = rfc.predict(test_bov_mean)\n",
    "for i in range(len(predictions)):\n",
    "    output_file.write(\"%s\\n\" % predictions[i])\n",
    "output_file.close()\n",
    "print(rfc.score(train_bov_idf,train_labels))\n",
    "print(rfc.score(dev_bov_mean,dev_labels))"
   ]
  },
  {
   "cell_type": "code",
   "execution_count": 28,
   "metadata": {},
   "outputs": [
    {
     "name": "stderr",
     "output_type": "stream",
     "text": [
      "c:\\users\\dell\\appdata\\local\\programs\\python\\python36\\lib\\site-packages\\sklearn\\svm\\base.py:196: FutureWarning: The default value of gamma will change from 'auto' to 'scale' in version 0.22 to account better for unscaled features. Set gamma explicitly to 'auto' or 'scale' to avoid this warning.\n",
      "  \"avoid this warning.\", FutureWarning)\n"
     ]
    },
    {
     "data": {
      "text/plain": [
       "0.4359673024523161"
      ]
     },
     "execution_count": 28,
     "metadata": {},
     "output_type": "execute_result"
    }
   ],
   "source": [
    "from sklearn.svm import SVC\n",
    "path = './SVC_bov_y_test_sst.txt'\n",
    "output_file = open(path, 'w')\n",
    "clf = SVC(C=200)\n",
    "clf.fit(train_bov_mean,train_labels)\n",
    "clf.score(dev_bov_mean,dev_labels)\n",
    "predictions = clf.predict(test_bov_mean)\n",
    "for i in range(len(predictions)):\n",
    "    output_file.write(\"%s\\n\" % predictions[i])\n",
    "output_file.close()"
   ]
  },
  {
   "cell_type": "markdown",
   "metadata": {},
   "source": [
    "# 4) Sentence classification with LSTMs in Keras"
   ]
  },
  {
   "cell_type": "markdown",
   "metadata": {},
   "source": [
    "## 4.1 - Preprocessing"
   ]
  },
  {
   "cell_type": "code",
   "execution_count": 38,
   "metadata": {},
   "outputs": [],
   "source": [
    "import keras\n",
    "from keras.preprocessing.sequence import pad_sequences\n",
    "from keras.utils import np_utils\n",
    "from keras.models import Sequential\n",
    "from keras.layers import Embedding, LSTM, Dense, Activation,Dropout"
   ]
  },
  {
   "cell_type": "code",
   "execution_count": 31,
   "metadata": {},
   "outputs": [],
   "source": [
    "# 1 - Load train/dev/test sets of SST\n",
    "\n",
    "\n",
    "# TYPE CODE HERE\n",
    "def load_data_sent(filename, test=False):\n",
    "    sentences = []\n",
    "    labels = []\n",
    "    with io.open(filename, encoding='utf-8') as f:\n",
    "        for line in f:\n",
    "            if not test:\n",
    "                label, line = line.split(' ', 1)\n",
    "                labels.append(label)\n",
    "            sentences.append(line.rstrip())\n",
    "    \n",
    "    return sentences, labels\n",
    "PATH='data/SST/'"
   ]
  },
  {
   "cell_type": "code",
   "execution_count": 32,
   "metadata": {},
   "outputs": [],
   "source": [
    "sst_test, _ = load_data_sent(os.path.join(PATH, 'stsa.fine.test.X'), True)\n",
    "sst_dev, sst_dev_label = load_data_sent(os.path.join(PATH, 'stsa.fine.dev'))\n",
    "sst_train, sst_train_label = load_data_sent(os.path.join(PATH, 'stsa.fine.train'))"
   ]
  },
  {
   "cell_type": "code",
   "execution_count": 33,
   "metadata": {},
   "outputs": [],
   "source": [
    "# 2 - Transform text to integers using keras.preprocessing.text.one_hot function\n",
    "#     https://keras.io/preprocessing/text/\n",
    "\n",
    "# TYPE CODE HERE\n",
    "from keras.preprocessing.text import text_to_word_sequence, one_hot\n",
    "\n",
    "def get_vocsize(*args):\n",
    "    r = []    \n",
    "    for a in args:\n",
    "        for e in a:\n",
    "            words = text_to_word_sequence(e) #spliting sent to words\n",
    "            for w in words:\n",
    "                r.append(w)            \n",
    "    return len(list(set(r)))\n",
    "#one hot encoding all sentences\n",
    "def text_to_num(n, *args):\n",
    "    r = []    \n",
    "    for a in args:\n",
    "        data = []\n",
    "        for e in a:\n",
    "            data.append(one_hot(e, n))        \n",
    "        r.append(data)    \n",
    "    return np.array(r[0]), np.array(r[1]), np.array(r[2])\n",
    "\n",
    "n = get_vocsize(sst_test, sst_dev, sst_train)\n",
    "X_train, X_dev, X_test = text_to_num(n, sst_train, sst_dev, sst_test)"
   ]
  },
  {
   "cell_type": "markdown",
   "metadata": {},
   "source": [
    "**Padding input data**\n",
    "\n",
    "Models in Keras (and elsewhere) take batches of sentences of the same length as input. It is because Deep Learning framework have been designed to handle well Tensors, which are particularly suited for fast computation on the GPU.\n",
    "\n",
    "Since sentences have different sizes, we \"pad\" them. That is, we add dummy \"padding\" tokens so that they all have the same length.\n",
    "\n",
    "The input to a Keras model thus has this size : (batchsize, maxseqlen) where maxseqlen is the maximum length of a sentence in the batch."
   ]
  },
  {
   "cell_type": "code",
   "execution_count": 36,
   "metadata": {},
   "outputs": [],
   "source": [
    "# 3 - Pad your sequences using keras.preprocessing.sequence.pad_sequences\n",
    "#     https://keras.io/preprocessing/sequence/\n",
    "\n",
    "from keras.preprocessing.sequence import pad_sequences\n",
    "\n",
    "X_train = pad_sequences(X_train)\n",
    "X_dev = pad_sequences(X_dev)\n",
    "X_test = pad_sequences(X_test)"
   ]
  },
  {
   "cell_type": "markdown",
   "metadata": {},
   "source": [
    "## 4.2 - Design and train your model"
   ]
  },
  {
   "cell_type": "code",
   "execution_count": 77,
   "metadata": {},
   "outputs": [],
   "source": [
    "# 4 - Design your encoder + classifier using keras.layers\n",
    "#     In Keras, Torch and other deep learning framework, we create a \"container\" which is the Sequential() module.\n",
    "#     Then we add components to this contained : the lookuptable, the LSTM, the classifier etc.\n",
    "#     All of these components are contained in the Sequential() and are trained together.\n",
    "\n",
    "\n",
    "# ADAPT CODE BELOW\n",
    "\n",
    "\n",
    "\n",
    "embed_dim  = 64  # word embedding dimension\n",
    "nhid       = 32  # number of hidden units in the LSTM\n",
    "vocab_size = n  # size of the vocabulary\n",
    "n_classes  = 5\n",
    "\n",
    "model = Sequential()\n",
    "model.add(Embedding(vocab_size, embed_dim))\n",
    "model.add(LSTM(nhid, return_sequences=False))\n",
    "model.add(Dropout(0.2))\n",
    "model.add(Dense(n_classes, activation='softmax'))"
   ]
  },
  {
   "cell_type": "code",
   "execution_count": 78,
   "metadata": {},
   "outputs": [
    {
     "name": "stdout",
     "output_type": "stream",
     "text": [
      "_________________________________________________________________\n",
      "Layer (type)                 Output Shape              Param #   \n",
      "=================================================================\n",
      "embedding_6 (Embedding)      (None, None, 64)          1141696   \n",
      "_________________________________________________________________\n",
      "lstm_6 (LSTM)                (None, 32)                12416     \n",
      "_________________________________________________________________\n",
      "dropout_2 (Dropout)          (None, 32)                0         \n",
      "_________________________________________________________________\n",
      "dense_5 (Dense)              (None, 5)                 165       \n",
      "=================================================================\n",
      "Total params: 1,154,277\n",
      "Trainable params: 1,154,277\n",
      "Non-trainable params: 0\n",
      "_________________________________________________________________\n"
     ]
    }
   ],
   "source": [
    "model.summary()"
   ]
  },
  {
   "cell_type": "code",
   "execution_count": 79,
   "metadata": {},
   "outputs": [
    {
     "name": "stdout",
     "output_type": "stream",
     "text": [
      "_________________________________________________________________\n",
      "Layer (type)                 Output Shape              Param #   \n",
      "=================================================================\n",
      "embedding_6 (Embedding)      (None, None, 64)          1141696   \n",
      "_________________________________________________________________\n",
      "lstm_6 (LSTM)                (None, 32)                12416     \n",
      "_________________________________________________________________\n",
      "dropout_2 (Dropout)          (None, 32)                0         \n",
      "_________________________________________________________________\n",
      "dense_5 (Dense)              (None, 5)                 165       \n",
      "=================================================================\n",
      "Total params: 1,154,277\n",
      "Trainable params: 1,154,277\n",
      "Non-trainable params: 0\n",
      "_________________________________________________________________\n",
      "None\n"
     ]
    }
   ],
   "source": [
    "# 5 - Define your loss/optimizer/metrics\n",
    "\n",
    "# MODIFY CODE BELOW\n",
    "\n",
    "loss_classif     =  'categorical_crossentropy' # find the right loss for multi-class classification\n",
    "optimizer        =  'adam' # find the right optimizer\n",
    "metrics_classif  =  ['accuracy']\n",
    "\n",
    "# Observe how easy (but blackboxed) this is in Keras\n",
    "model.compile(loss=loss_classif,\n",
    "              optimizer=optimizer,\n",
    "              metrics=metrics_classif)\n",
    "print(model.summary())"
   ]
  },
  {
   "cell_type": "code",
   "execution_count": 80,
   "metadata": {
    "scrolled": true
   },
   "outputs": [],
   "source": [
    "# 6 - Train your model and find the best hyperparameters for your dev set\n",
    "#     you will be evaluated on the quality of your predictions on the test set\n",
    "\n",
    "# ADAPT CODE BELOW\n",
    "bs = 64\n",
    "\n",
    "n_epochs = 20\n",
    "y_train = np_utils.to_categorical(train_labels)\n",
    "y_dev = np_utils.to_categorical(dev_labels)\n",
    "\n",
    "history = model.fit(X_train, y_train, batch_size=bs,epochs=n_epochs,validation_data=(X_dev, y_dev),verbose=0)"
   ]
  },
  {
   "cell_type": "code",
   "execution_count": 81,
   "metadata": {},
   "outputs": [
    {
     "data": {
      "image/png": "[encoded data removed]",
      "text/plain": [
       "<Figure size 432x288 with 1 Axes>"
      ]
     },
     "metadata": {
      "needs_background": "light"
     },
     "output_type": "display_data"
    }
   ],
   "source": [
    "import matplotlib.pyplot as plt\n",
    "plt.plot(history.history['acc'])\n",
    "plt.plot(history.history['val_acc'])\n",
    "plt.title('model accuracy')\n",
    "plt.ylabel('accuracy')\n",
    "plt.xlabel('epoch')\n",
    "plt.legend(['train', 'dev'], loc='upper left')\n",
    "plt.savefig('train_dev_evol.png')\n",
    "plt.show()"
   ]
  },
  {
   "cell_type": "code",
   "execution_count": 76,
   "metadata": {},
   "outputs": [],
   "source": [
    "# 7 - Generate your predictions on the test set using model.predict(x_test)\n",
    "#     https://keras.io/models/model/\n",
    "#     Log your predictions in a file (one line = one integer: 0,1,2,3,4)\n",
    "#     Attach the output file \"logreg_lstm_y_test_sst.txt\" to your deliverable.\n",
    "\n",
    "# TYPE CODE HERE\n",
    "path = './logreg_lstm_y_test_sst.txt'\n",
    "thefile = open(path, 'w')\n",
    "predictions = model.predict_classes(X_test)\n",
    "for i in range(len(predictions)):\n",
    "    thefile.write(\"%s\\n\" % predictions[i])\n",
    "thefile.close()"
   ]
  },
  {
   "cell_type": "markdown",
   "metadata": {},
   "source": [
    "## 4.3 -- innovate !"
   ]
  },
  {
   "cell_type": "markdown",
   "metadata": {},
   "source": [
    "## Using pretrained embeddings"
   ]
  },
  {
   "cell_type": "code",
   "execution_count": 53,
   "metadata": {},
   "outputs": [],
   "source": [
    "# 8 - Open question: find a model that is better on your dev set\n",
    "#     (e.g: use a 1D ConvNet, use a better classifier, pretrain your lookup tables ..)\n",
    "#     you will get point if the results on the test set are better: be careful of not overfitting your dev set too much..\n",
    "#     Attach the output file \"XXX_XXX_y_test_sst.txt\" to your deliverable.\n",
    "\n",
    "def get_voc(*args):\n",
    "    \"\"\"\n",
    "        Args:\n",
    "            *args (lists of strings): list of the strings of the training/dev/testing dataset\n",
    "        Returns:\n",
    "            list: a list containing all the words (unique)\n",
    "    \"\"\"\n",
    "    r = []\n",
    "    \n",
    "    for a in args:\n",
    "        for e in a:\n",
    "            words = text_to_word_sequence(e)\n",
    "            for w in words:\n",
    "                r.append(w)\n",
    "                \n",
    "    uniq_word = list(set(r)) # set use to discard duplicates\n",
    "    \n",
    "    return {w: None for w in uniq_word}\n",
    "\n",
    "def word_to_embeddings(filename, *args):\n",
    "    voca = get_voc(*args)\n",
    "    w2e = {}\n",
    "    \n",
    "    max_size = len(voca)\n",
    "    counter = 0\n",
    "    with io.open(filename, encoding='utf-8') as f:\n",
    "        next(f) # to skip the header\n",
    "        for line in f:\n",
    "            if counter == max_size:\n",
    "                break\n",
    "            word, vec = line.split(' ', 1)\n",
    "            if word.strip().lower() in voca:\n",
    "                w2e[word] = np.fromstring(vec, sep=' ')\n",
    "                counter += 1\n",
    "    \n",
    "    return w2e\n",
    "\n",
    "# take 20 seconds on my computer...\n",
    "w2v_dict = word_to_embeddings(os.path.join(PATH_TO_DATA, 'wiki.en.vec'), sst_test, sst_dev, sst_train)"
   ]
  },
  {
   "cell_type": "code",
   "execution_count": 54,
   "metadata": {},
   "outputs": [],
   "source": [
    "vocabulaire = set(get_voc(sst_test, sst_dev, sst_train)) # voc from the SST files\n",
    "voca_w2v = set(w2v_dict.keys()) # voc using word_2_vec from wikipedia"
   ]
  },
  {
   "cell_type": "code",
   "execution_count": 66,
   "metadata": {},
   "outputs": [],
   "source": [
    "def getEmbeddings(voc_list):\n",
    "    \"\"\"\n",
    "        Args:\n",
    "            voc_list (list): list of unique words extracted from all questions\n",
    "        Returns:\n",
    "            embeddings (ndarray): A matrix of shape (vocabulary size, embeddings_size)\n",
    "    \"\"\"\n",
    "    embeddings = np.zeros((len(voc_list), 300))\n",
    "    for i, w in enumerate(voc_list):\n",
    "        if w in w2v_dict.keys():\n",
    "            embeddings[i] = w2v_dict[w]\n",
    "        else: embeddings[i]=300*[0]\n",
    "    return embeddings"
   ]
  },
  {
   "cell_type": "code",
   "execution_count": 67,
   "metadata": {},
   "outputs": [],
   "source": [
    "vocab = list(get_voc(sst_test, sst_dev, sst_train))\n",
    "embedding_matrix = getEmbeddings(vocab)\n",
    "\n",
    "# need to transform X_test, X_train, X_dev into matrix of idx of word in embedding_matrix\n",
    "def preprocess_matrix(X, vocab, max_len):\n",
    "    vocab = {k: i for i, k in enumerate(vocab)}\n",
    "    new_X = np.zeros((len(X), max_len), dtype=int)\n",
    "    \n",
    "    for i, e in enumerate(X):\n",
    "        w_list = text_to_word_sequence(e)\n",
    "        size = len(w_list)\n",
    "        for j, w in enumerate(w_list):\n",
    "            new_X[i,max_len-size+j] = vocab[w]\n",
    "            \n",
    "    return new_X\n",
    "\n",
    "# sst_test, sst_dev, sst_train\n",
    "new_X_test = preprocess_matrix(sst_test, vocab, max_len=52)\n",
    "new_X_train = preprocess_matrix(sst_train, vocab, max_len=52)\n",
    "new_X_dev = preprocess_matrix(sst_dev, vocab, max_len=52)"
   ]
  },
  {
   "cell_type": "code",
   "execution_count": 69,
   "metadata": {},
   "outputs": [],
   "source": [
    "from keras.layers import Input\n",
    "from keras.models import Model"
   ]
  },
  {
   "cell_type": "code",
   "execution_count": 86,
   "metadata": {},
   "outputs": [
    {
     "name": "stderr",
     "output_type": "stream",
     "text": [
      "c:\\users\\dell\\appdata\\local\\programs\\python\\python36\\lib\\site-packages\\ipykernel_launcher.py:23: UserWarning: Update your `Model` call to the Keras 2 API: `Model(inputs=[<tf.Tenso..., outputs=Tensor(\"de...)`\n"
     ]
    },
    {
     "name": "stdout",
     "output_type": "stream",
     "text": [
      "_________________________________________________________________\n",
      "Layer (type)                 Output Shape              Param #   \n",
      "=================================================================\n",
      "input_2 (InputLayer)         (None, 52)                0         \n",
      "_________________________________________________________________\n",
      "embedding_7 (Embedding)      (None, 52, 300)           5351700   \n",
      "_________________________________________________________________\n",
      "lstm_7 (LSTM)                (None, 64)                93440     \n",
      "_________________________________________________________________\n",
      "dense_6 (Dense)              (None, 5)                 325       \n",
      "=================================================================\n",
      "Total params: 5,445,465\n",
      "Trainable params: 93,765\n",
      "Non-trainable params: 5,351,700\n",
      "_________________________________________________________________\n"
     ]
    }
   ],
   "source": [
    "voc_size = embedding_matrix.shape[0]\n",
    "word2vec_dim = embedding_matrix.shape[1]\n",
    "max_len = 52 #maximum number of word in a string \n",
    "activation = 'tanh'\n",
    "q_hidden_units = 64\n",
    "merge_hidden_units = 50\n",
    "\n",
    "\n",
    "_input = Input(shape=[max_len], dtype='int32')\n",
    "\n",
    "# get the embedding layer\n",
    "embedded = Embedding(\n",
    "        input_dim=voc_size,\n",
    "        output_dim=word2vec_dim,\n",
    "        weights=[embedding_matrix],\n",
    "        input_length=max_len,\n",
    "        trainable=False,\n",
    "        mask_zero=False\n",
    "    )(_input)\n",
    "\n",
    "lstm = LSTM(q_hidden_units, return_sequences=False)(embedded)\n",
    "probabilities = Dense(5, activation='softmax')(lstm)\n",
    "model2 = Model(input=[_input], output=probabilities)\n",
    "model2.compile(loss='categorical_crossentropy', optimizer='adam',  metrics=['accuracy'])\n",
    "model2.summary()"
   ]
  },
  {
   "cell_type": "code",
   "execution_count": 88,
   "metadata": {},
   "outputs": [
    {
     "name": "stdout",
     "output_type": "stream",
     "text": [
      "dict_keys(['val_loss', 'val_acc', 'loss', 'acc'])\n"
     ]
    },
    {
     "data": {
      "image/png": "[encoded data removed]",
      "text/plain": [
       "<Figure size 432x288 with 1 Axes>"
      ]
     },
     "metadata": {
      "needs_background": "light"
     },
     "output_type": "display_data"
    }
   ],
   "source": [
    "history=model2.fit(new_X_train, y_train, batch_size=bs,validation_data=(new_X_dev, y_dev),epochs=20,verbose=0)\n",
    "\n",
    "print(history.history.keys())\n",
    "plt.plot(history.history['acc'])\n",
    "plt.plot(history.history['val_acc'])\n",
    "plt.title('model accuracy')\n",
    "plt.ylabel('accuracy')\n",
    "plt.xlabel('epoch')\n",
    "plt.legend(['train', 'dev'], loc='upper left')\n",
    "plt.savefig('train_dev_evol_2.png')\n",
    "plt.show()"
   ]
  },
  {
   "cell_type": "code",
   "execution_count": 89,
   "metadata": {},
   "outputs": [],
   "source": [
    "# - Generate your predictions on the test set using model.predict(x_test)\n",
    "\n",
    "\n",
    "# TYPE CODE HERE\n",
    "path = './pretrained-embeddings_lstm_y_test_sst.txt'\n",
    "thefile = open(path, 'w')\n",
    "predictions = better_model.predict(X_test)\n",
    "for i in range(len(predictions)):\n",
    "    thefile.write(\"%s\\n\" % np.argmax(predictions[i]))\n",
    "thefile.close()"
   ]
  }
 ],
 "metadata": {
  "kernelspec": {
   "display_name": "Python 3",
   "language": "python",
   "name": "python3"
  },
  "language_info": {
   "codemirror_mode": {
    "name": "ipython",
    "version": 3
   },
   "file_extension": ".py",
   "mimetype": "text/x-python",
   "name": "python",
   "nbconvert_exporter": "python",
   "pygments_lexer": "ipython3",
   "version": "3.6.5"
  }
 },
 "nbformat": 4,
 "nbformat_minor": 1
}
